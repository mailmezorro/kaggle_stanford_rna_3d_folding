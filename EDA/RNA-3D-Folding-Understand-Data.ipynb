{
 "cells": [
  {
   "cell_type": "markdown",
   "metadata": {},
   "source": [
    "# Introduction\n",
    "Normally, I start with an exploratory data analysis (EDA) script and dive straight into the data. However, this time the topic is more complex, requiring a deeper understanding before analysis is possible. To build a solid foundation, let’s start with the fundamental question:\n",
    "\n",
    "**What is RNA? Why is it important? And why does its 3D structure matter?**\n",
    "\n",
    "---\n",
    "\n",
    "## What is RNA?\n",
    "RNA (Ribonucleic Acid) is a **nucleic acid**, a type of biological macromolecule, similar to DNA but with key differences in structure and function. It plays a crucial role in genetics and cellular biology.\n",
    "\n",
    "### Differences between RNA and DNA\n",
    "| Feature          | DNA                      | RNA                      |\n",
    "|-----------------|--------------------------|--------------------------|\n",
    "| Sugar           | Deoxyribose               | Ribose                   |\n",
    "| Strands         | Double-stranded (mostly, forming a **double helix**)  | Single-stranded (mostly) |\n",
    "| Bases          | A, T, C, G                 | A, **U**, C, G (Uracil replaces Thymine) |\n",
    "| Stability       | More stable               | Less stable (prone to degradation) |\n",
    "| Function        | **Genetic storage, replication** (stores hereditary information in cells) | **Protein synthesis, regulation, catalysis** (actively involved in gene expression) |\n",
    "\n",
    "### **DNA as the Blueprint of Life**\n",
    "DNA is **the genetic material in all known living organisms**. It carries the instructions for the growth, development, functioning, and reproduction of cells. The **double-helix structure** ensures that genetic information is stored safely and can be accurately copied during **cell division** (mitosis and meiosis). Every cell in an organism contains the same DNA, which acts as the \"blueprint\" for making proteins that define cellular function.\n",
    "\n",
    "---\n",
    "\n",
    "## **Types of RNA**\n",
    "RNA comes in different forms, each with distinct functions that work together to **convert genetic information into proteins**. The three main types of RNA directly involved in **protein synthesis** are:\n",
    "\n",
    "### **1. Messenger RNA (mRNA) – The Genetic Courier**\n",
    "- **Function:** Carries genetic instructions from DNA to ribosomes to synthesize proteins. It is a temporary copy of a gene used to direct protein synthesis.\n",
    "- **Example:** **mRNA vaccines** (e.g., Pfizer-BioNTech COVID-19 vaccine) work by introducing a synthetic mRNA sequence that cells use to produce a viral protein, training the immune system to recognize and fight the virus.\n",
    "\n",
    "### **2. Transfer RNA (tRNA) – The Adapter Molecule**\n",
    "- **Function:** Brings amino acids to the ribosome, matching them with the corresponding mRNA codon.\n",
    "- **Structure:** It has a **cloverleaf** shape and an **anticodon region** that pairs with mRNA codons.\n",
    "- **Example:** If mRNA has the codon `AUG` (Methionine), tRNA carries the corresponding amino acid (Methionine) and adds it to the growing protein chain.\n",
    "\n",
    "### **3. Ribosomal RNA (rRNA) – The Protein Factory**\n",
    "- **Function:** Forms the core of ribosomes and catalyzes peptide bond formation between amino acids.\n",
    "- **Highly conserved:** Used in evolutionary studies to compare species.\n",
    "- **Example:** The ribosome consists of both rRNA and proteins, acting as the **assembly site for proteins**.\n",
    "\n",
    "### **4. Small Nuclear RNA (snRNA) – The Gene Editor**\n",
    "- **Function:** Involved in **RNA processing**, especially **splicing**, which removes non-coding sequences (**introns**) from pre-mRNA before it becomes mature mRNA.\n",
    "- **Example:** Helps form the **spliceosome**, a molecular machine that cuts out introns and joins exons together, allowing different proteins to be produced from the same gene.\n",
    "\n",
    "### **5. MicroRNA (miRNA) & Small Interfering RNA (siRNA) – The Gene Silencers**\n",
    "- **Function:** Regulate gene expression by binding to mRNA and preventing translation or promoting degradation.\n",
    "- **Example:** miRNAs are involved in **cancer suppression** by regulating oncogenes (cancer-causing genes). siRNA is used in **gene therapy** to silence disease-causing genes.\n",
    "\n",
    "---\n",
    "\n",
    "## **Why is RNA important?**\n",
    "RNA is fundamental in biology and medicine because it acts as a bridge between genetic information (DNA) and functional molecules (proteins).\n",
    "\n",
    "### **1. Role in Protein Synthesis**\n",
    "RNA is central to the **central dogma of molecular biology**:\n",
    "\n",
    "**DNA → RNA → Protein**\n",
    "\n",
    "- **Transcription:** DNA is transcribed into mRNA in the nucleus.\n",
    "- **Translation:** mRNA is translated into proteins by ribosomes (rRNA + tRNA) in the cytoplasm.\n",
    "- **Example of the process:**\n",
    "  1. DNA: `TAC GGC TAA`\n",
    "  2. mRNA: `AUG CCG AUU`\n",
    "  3. tRNA brings the corresponding amino acids: Methionine - Proline - Isoleucine\n",
    "  4. The ribosome links these amino acids together to form a protein.\n",
    "\n",
    "### **2. Gene Regulation & Cell Function**\n",
    "RNA is not just a passive messenger; it actively regulates gene expression.\n",
    "- **miRNA and siRNA** silence genes by binding to mRNA and blocking translation.\n",
    "- **Long non-coding RNA (lncRNA)** influences chromatin structure and gene expression.\n",
    "- **Riboswitches** change their conformation to regulate gene activity based on environmental conditions.\n",
    "\n",
    "### **3. Importance in Evolution & Medicine**\n",
    "- RNA was likely the **first genetic material** in early life forms (**RNA world hypothesis**).\n",
    "- Many viruses, including **SARS-CoV-2**, use RNA as their genetic material.\n",
    "- **RNA-based drugs** and **RNA vaccines** are revolutionizing medicine.\n",
    "\n",
    "---\n",
    "## **What is 3D RNA folding?**\n",
    "Unlike DNA, RNA does not stay linear. It **folds into complex structures** that determine its function.\n",
    "\n",
    "### **Levels of RNA Structure**\n",
    "1. **Primary Structure**: The sequence of nucleotides (A, U, C, G).\n",
    "2. **Secondary Structure**: Local folding patterns (stems, loops, bulges).\n",
    "3. **Tertiary Structure**: The full **3D shape** stabilized by interactions.\n",
    "\n",
    "### **Key Folding Elements**\n",
    "- **Hairpin loops**: Short double-stranded stems with a loop at the end.\n",
    "- **Pseudoknots**: Complex folds where loops interact with other RNA regions.\n",
    "- **Coaxial stacking**: Stacking of helices for stability.\n",
    "\n",
    "RNA folding is **not random**—it follows **thermodynamic principles** to find the most stable conformation.\n",
    "\n",
    "---\n",
    "\n",
    "## **Why do we need to study 3D RNA folding?**\n",
    "The **3D structure determines RNA function**, affecting its ability to interact with other molecules.\n",
    "\n",
    "### **1. RNA-Protein Interactions**\n",
    "- Ribosomes, CRISPR, and viral replication depend on RNA-protein binding.\n",
    "\n",
    "### **2. Drug Design & Synthetic Biology**\n",
    "- Many drugs target RNA structures (e.g., antibiotics targeting rRNA).\n",
    "- Artificially designed RNA molecules can be used in therapy.\n",
    "\n",
    "---\n",
    "\n",
    "## **How does RNA 3D folding work?**\n",
    "RNA folds due to various **molecular forces** and stabilizing factors.\n",
    "\n",
    "### **1. Key Forces in RNA Folding**\n",
    "- **Hydrogen bonding**: Base pairing (A-U, G-C).\n",
    "- **Stacking interactions**: π-π interactions between bases.\n",
    "- **Metal ion stabilization**: Mg²⁺ ions stabilize tertiary structures.\n",
    "\n",
    "### **2. Experimental Methods to Study RNA Folding**\n",
    "- **X-ray crystallography**: High-resolution but difficult for RNA.\n",
    "- **NMR spectroscopy**: Good for small RNAs.\n",
    "- **Cryo-EM**: Ideal for large RNA complexes like ribosomes.\n",
    "\n",
    "### **3. Computational Approaches**\n",
    "- **RNAfold**: Predicts 2D structures based on thermodynamics.\n",
    "- **Rosetta & AlphaFold RNA**: AI-driven 3D structure prediction.\n",
    "- **Molecular dynamics simulations**: Simulates RNA folding over time.\n",
    "\n",
    "---\n",
    "\n",
    "## **Challenges & Future Directions**\n",
    "Despite progress, RNA structure prediction remains a challenge.\n",
    "\n",
    "### **1. Predicting RNA Structures is Difficult**\n",
    "- Experimental methods are slow and expensive.\n",
    "- Computational models still struggle with large, complex RNAs.\n",
    "\n",
    "### **2. Combining Experimental & Computational Approaches**\n",
    "- Integrating lab data (e.g., Cryo-EM) with AI models improves accuracy.\n",
    "\n",
    "### **3. AI & Deep Learning in RNA Folding**\n",
    "- **AlphaFold RNA** is emerging as a powerful tool.\n",
    "- Machine learning could revolutionize RNA-based drug discovery.\n",
    "\n",
    "---\n",
    "### **Modern Approaches in RNA Structure Prediction**\n",
    "Predicting RNA 3D structures is a complex challenge that combines experimental and computational techniques. In recent years, **AI-driven models** have significantly improved RNA structure prediction.\n",
    "\n",
    "- **RNAfold**: A widely used thermodynamic model that predicts RNA secondary structures based on minimum free energy.\n",
    "- **Rosetta**: A computational tool that models RNA tertiary structures using fragment-based assembly and molecular dynamics.\n",
    "- **AlphaFold RNA**: A deep learning-based approach, inspired by AlphaFold for proteins, aiming to predict RNA 3D structures with high accuracy.\n",
    "\n",
    "By integrating **machine learning, molecular simulations, and experimental data**, these tools are paving the way for more precise RNA structural insights, benefiting **drug discovery, synthetic biology, and gene regulation studies**.\n",
    "\n",
    "### **Example: RNAfold in Drug Discovery**\n",
    "One practical application of RNA structure prediction is in **drug discovery**. Many **antiviral drugs** target RNA structures to disrupt viral replication. For example, **RNAfold** has been used to predict the secondary structures of **SARS-CoV-2 RNA elements**, helping researchers identify potential drug-binding sites. This approach aids in the design of **RNA-targeted therapeutics**, which could be crucial for treating RNA viruses and genetic disorders.\n",
    "\n",
    "\n",
    "\n",
    "## **Final Thoughts**\n",
    "Understanding RNA and its 3D folding is crucial for biology, medicine, and technology. By combining experimental and computational approaches, researchers can unlock new possibilities in **drug design, genetic engineering, and synthetic biology**.\n",
    "\n"
   ]
  },
  {
   "cell_type": "markdown",
   "metadata": {},
   "source": [
    "# EDA"
   ]
  },
  {
   "cell_type": "code",
   "execution_count": 71,
   "metadata": {
    "_cell_guid": "b1076dfc-b9ad-4769-8c92-a6c4dae69d19",
    "_uuid": "8f2839f25d086af736a60e9eeb907d3b93b6e0e5",
    "trusted": true
   },
   "outputs": [
    {
     "name": "stdout",
     "output_type": "stream",
     "text": [
      "../kaggle/input/standford-rna-3d-folding-sunny/sample_submission.csv\n",
      "../kaggle/input/standford-rna-3d-folding-sunny/test_sequences.csv\n",
      "../kaggle/input/standford-rna-3d-folding-sunny/train_labels.csv\n",
      "../kaggle/input/standford-rna-3d-folding-sunny/train_sequences.csv\n",
      "../kaggle/input/stanford-rna-3d-folding/validation_labels.csv\n",
      "../kaggle/input/stanford-rna-3d-folding/sample_submission.csv\n",
      "../kaggle/input/stanford-rna-3d-folding/test_sequences.csv\n",
      "../kaggle/input/stanford-rna-3d-folding/validation_sequences.csv\n",
      "../kaggle/input/stanford-rna-3d-folding/train_labels.csv\n",
      "../kaggle/input/stanford-rna-3d-folding/train_sequences.csv\n"
     ]
    }
   ],
   "source": [
    "import numpy as np \n",
    "import pandas as pd \n",
    "import seaborn as sns\n",
    "import matplotlib.pyplot as plt\n",
    "from IPython.display import display, Markdown\n",
    "import scipy.stats as stats\n",
    "import plotly.graph_objects as go\n",
    "# Input data files are available in the read-only \"../input/\" directory\n",
    "# For example, running this (by clicking run or pressing Shift+Enter) will list all files under the input directory\n",
    "\n",
    "import os\n",
    "for dirname, _, filenames in os.walk('/kaggle/input'):\n",
    "    for filename in filenames:\n",
    "        print(os.path.join(dirname, filename))\n",
    "\n",
    "# Decide between local or kaggle cloud storage         \n",
    "KAGGLE_ENV = 'kaggle' in os.listdir('/')\n",
    "data_path = '/kaggle/input' if KAGGLE_ENV else '../kaggle/input'\n",
    "    \n",
    "    \n",
    "for dirname, _, filenames in os.walk(data_path):\n",
    "    for filename in filenames:\n",
    "        print(os.path.join(dirname, filename)) "
   ]
  },
  {
   "cell_type": "markdown",
   "metadata": {},
   "source": [
    "## Load Data"
   ]
  },
  {
   "cell_type": "code",
   "execution_count": 72,
   "metadata": {},
   "outputs": [
    {
     "name": "stdout",
     "output_type": "stream",
     "text": [
      "df_sample_submission_sunny load, 2515 rows, 18 columns.\n",
      "df_test_sequences_sunny load, 12 rows, 5 columns.\n",
      "df_train_labels_sunny load, 137095 rows, 6 columns.\n",
      "df_train_sequences_sunny load, 844 rows, 5 columns.\n",
      "df_validation_labels load, 2515 rows, 123 columns.\n",
      "df_sample_submission load, 2515 rows, 18 columns.\n",
      "df_test_sequences load, 12 rows, 5 columns.\n",
      "df_validation_sequences load, 12 rows, 5 columns.\n",
      "df_train_labels load, 137095 rows, 6 columns.\n",
      "df_train_sequences load, 844 rows, 5 columns.\n"
     ]
    }
   ],
   "source": [
    "file_paths = {\n",
    "    \"df_sample_submission_sunny\": data_path + \"/standford-rna-3d-folding-sunny/sample_submission.csv\",\n",
    "    \"df_test_sequences_sunny\": data_path + \"/standford-rna-3d-folding-sunny/test_sequences.csv\",\n",
    "    \"df_train_labels_sunny\": data_path + \"/standford-rna-3d-folding-sunny/train_labels.csv\",\n",
    "    \"df_train_sequences_sunny\": data_path + \"/standford-rna-3d-folding-sunny/train_sequences.csv\",\n",
    "    \"df_validation_labels\": data_path + \"/stanford-rna-3d-folding/validation_labels.csv\",\n",
    "    \"df_sample_submission\": data_path + \"/stanford-rna-3d-folding/sample_submission.csv\",\n",
    "    \"df_test_sequences\": data_path + \"/stanford-rna-3d-folding/test_sequences.csv\",\n",
    "    \"df_validation_sequences\": data_path + \"/stanford-rna-3d-folding/validation_sequences.csv\",\n",
    "    \"df_train_labels\": data_path + \"/stanford-rna-3d-folding/train_labels.csv\",\n",
    "    \"df_train_sequences\": data_path + \"/stanford-rna-3d-folding/train_sequences.csv\"\n",
    "}\n",
    "\n",
    "for var_name, path in file_paths.items():\n",
    "    try:\n",
    "        globals()[var_name] = pd.read_csv(path)\n",
    "        print(f\"{var_name} load, {globals()[var_name].shape[0]} rows, {globals()[var_name].shape[1]} columns.\")\n",
    "    except FileNotFoundError:\n",
    "        print(f\"file not found: {path}\")\n",
    "    except Exception as e:\n",
    "        print(f\"error .. {path}: {e}\")"
   ]
  },
  {
   "cell_type": "markdown",
   "metadata": {},
   "source": [
    "## df_train (RNA sequences)\n",
    "Start with the RNA sequences (df_train) and have a look about the features.\n",
    "Let's start with the first row:\n",
    "- target_id , 1SCL_A, the name of the RNA is 1SCL and the letter A is about the chain (RNA can have multiple chains). This RNA just have one Chain, https://www.rcsb.org/structure/1SCL.\n",
    "- sequence, An RNA sequence is the linear order of nucleotides in an RNA strand. It consists of the bases AUCG. This come first and the 3D folding happens later!\n",
    "- temporal cutoff - publish/ discovered date\n",
    "- description: This is the scientific description from the Protein Data Bank (PDB) (https://www.rcsb.org/). Each description includes the RNA type, biological function, specific organism, and experimental method used to determine the structure."
   ]
  },
  {
   "cell_type": "code",
   "execution_count": 73,
   "metadata": {},
   "outputs": [
    {
     "data": {
      "text/plain": [
       "'df_train_sequences'"
      ]
     },
     "metadata": {},
     "output_type": "display_data"
    },
    {
     "data": {
      "application/vnd.microsoft.datawrangler.viewer.v0+json": {
       "columns": [
        {
         "name": "index",
         "rawType": "int64",
         "type": "integer"
        },
        {
         "name": "target_id",
         "rawType": "object",
         "type": "string"
        },
        {
         "name": "sequence",
         "rawType": "object",
         "type": "string"
        },
        {
         "name": "temporal_cutoff",
         "rawType": "object",
         "type": "string"
        },
        {
         "name": "description",
         "rawType": "object",
         "type": "string"
        },
        {
         "name": "all_sequences",
         "rawType": "object",
         "type": "string"
        }
       ],
       "conversionMethod": "pd.DataFrame",
       "ref": "4d93566f-cf87-4305-a667-8136ce413807",
       "rows": [
        [
         "0",
         "1SCL_A",
         "GGGUGCUCAGUACGAGAGGAACCGCACCC",
         "1995-01-26",
         "THE SARCIN-RICIN LOOP, A MODULAR RNA",
         ">1SCL_1|Chain A|RNA SARCIN-RICIN LOOP|Rattus norvegicus (10116)\nGGGUGCUCAGUACGAGAGGAACCGCACCC\n"
        ],
        [
         "1",
         "1RNK_A",
         "GGCGCAGUGGGCUAGCGCCACUCAAAAGGCCCAU",
         "1995-02-27",
         "THE STRUCTURE OF AN RNA PSEUDOKNOT THAT CAUSES EFFICIENT FRAMESHIFTING IN MOUSE MAMMARY TUMOR VIRUS",
         ">1RNK_1|Chain A|RNA PSEUDOKNOT|null\nGGCGCAGUGGGCUAGCGCCACUCAAAAGGCCCAU\n"
        ],
        [
         "2",
         "1RHT_A",
         "GGGACUGACGAUCACGCAGUCUAU",
         "1995-06-03",
         "24-MER RNA HAIRPIN COAT PROTEIN BINDING SITE FOR BACTERIOPHAGE R17 (NMR, MINIMIZED AVERAGE STRUCTURE)",
         ">1RHT_1|Chain A|RNA (5'-R(P*GP*GP*GP*AP*CP*UP*GP*AP*CP*GP*AP*UP*CP*AP*CP*GP*CP*AP*GP*UP*CP*UP*AP*U)-3')|null\nGGGACUGACGAUCACGCAGUCUAU\n"
        ],
        [
         "3",
         "1HLX_A",
         "GGGAUAACUUCGGUUGUCCC",
         "1995-09-15",
         "P1 HELIX NUCLEIC ACIDS (DNA/RNA) RIBONUCLEIC ACID",
         ">1HLX_1|Chain A|RNA (5'-R(*GP*GP*GP*AP*UP*AP*AP*CP*UP*UP*CP*GP*GP*UP*UP*GP*UP*CP*CP*C)-3')|null\nGGGAUAACUUCGGUUGUCCC\n"
        ],
        [
         "4",
         "1HMH_E",
         "GGCGACCCUGAUGAGGCCGAAAGGCCGAAACCGU",
         "1995-12-07",
         "THREE-DIMENSIONAL STRUCTURE OF A HAMMERHEAD RIBOZYME",
         ">1HMH_1|Chains A, C, E|HAMMERHEAD RIBOZYME-RNA STRAND|\nGGCGACCCUGAUGAGGCCGAAAGGCCGAAACCGU\n>1HMH_2|Chains B, D, F|HAMMERHEAD RIBOZYME-DNA STRAND|\nACGGTCGGTCGCC\n"
        ]
       ],
       "shape": {
        "columns": 5,
        "rows": 5
       }
      },
      "text/html": [
       "<div>\n",
       "<style scoped>\n",
       "    .dataframe tbody tr th:only-of-type {\n",
       "        vertical-align: middle;\n",
       "    }\n",
       "\n",
       "    .dataframe tbody tr th {\n",
       "        vertical-align: top;\n",
       "    }\n",
       "\n",
       "    .dataframe thead th {\n",
       "        text-align: right;\n",
       "    }\n",
       "</style>\n",
       "<table border=\"1\" class=\"dataframe\">\n",
       "  <thead>\n",
       "    <tr style=\"text-align: right;\">\n",
       "      <th></th>\n",
       "      <th>target_id</th>\n",
       "      <th>sequence</th>\n",
       "      <th>temporal_cutoff</th>\n",
       "      <th>description</th>\n",
       "      <th>all_sequences</th>\n",
       "    </tr>\n",
       "  </thead>\n",
       "  <tbody>\n",
       "    <tr>\n",
       "      <th>0</th>\n",
       "      <td>1SCL_A</td>\n",
       "      <td>GGGUGCUCAGUACGAGAGGAACCGCACCC</td>\n",
       "      <td>1995-01-26</td>\n",
       "      <td>THE SARCIN-RICIN LOOP, A MODULAR RNA</td>\n",
       "      <td>&gt;1SCL_1|Chain A|RNA SARCIN-RICIN LOOP|Rattus n...</td>\n",
       "    </tr>\n",
       "    <tr>\n",
       "      <th>1</th>\n",
       "      <td>1RNK_A</td>\n",
       "      <td>GGCGCAGUGGGCUAGCGCCACUCAAAAGGCCCAU</td>\n",
       "      <td>1995-02-27</td>\n",
       "      <td>THE STRUCTURE OF AN RNA PSEUDOKNOT THAT CAUSES...</td>\n",
       "      <td>&gt;1RNK_1|Chain A|RNA PSEUDOKNOT|null\\nGGCGCAGUG...</td>\n",
       "    </tr>\n",
       "    <tr>\n",
       "      <th>2</th>\n",
       "      <td>1RHT_A</td>\n",
       "      <td>GGGACUGACGAUCACGCAGUCUAU</td>\n",
       "      <td>1995-06-03</td>\n",
       "      <td>24-MER RNA HAIRPIN COAT PROTEIN BINDING SITE F...</td>\n",
       "      <td>&gt;1RHT_1|Chain A|RNA (5'-R(P*GP*GP*GP*AP*CP*UP*...</td>\n",
       "    </tr>\n",
       "    <tr>\n",
       "      <th>3</th>\n",
       "      <td>1HLX_A</td>\n",
       "      <td>GGGAUAACUUCGGUUGUCCC</td>\n",
       "      <td>1995-09-15</td>\n",
       "      <td>P1 HELIX NUCLEIC ACIDS (DNA/RNA) RIBONUCLEIC ACID</td>\n",
       "      <td>&gt;1HLX_1|Chain A|RNA (5'-R(*GP*GP*GP*AP*UP*AP*A...</td>\n",
       "    </tr>\n",
       "    <tr>\n",
       "      <th>4</th>\n",
       "      <td>1HMH_E</td>\n",
       "      <td>GGCGACCCUGAUGAGGCCGAAAGGCCGAAACCGU</td>\n",
       "      <td>1995-12-07</td>\n",
       "      <td>THREE-DIMENSIONAL STRUCTURE OF A HAMMERHEAD RI...</td>\n",
       "      <td>&gt;1HMH_1|Chains A, C, E|HAMMERHEAD RIBOZYME-RNA...</td>\n",
       "    </tr>\n",
       "  </tbody>\n",
       "</table>\n",
       "</div>"
      ],
      "text/plain": [
       "  target_id                            sequence temporal_cutoff  \\\n",
       "0    1SCL_A       GGGUGCUCAGUACGAGAGGAACCGCACCC      1995-01-26   \n",
       "1    1RNK_A  GGCGCAGUGGGCUAGCGCCACUCAAAAGGCCCAU      1995-02-27   \n",
       "2    1RHT_A            GGGACUGACGAUCACGCAGUCUAU      1995-06-03   \n",
       "3    1HLX_A                GGGAUAACUUCGGUUGUCCC      1995-09-15   \n",
       "4    1HMH_E  GGCGACCCUGAUGAGGCCGAAAGGCCGAAACCGU      1995-12-07   \n",
       "\n",
       "                                         description  \\\n",
       "0               THE SARCIN-RICIN LOOP, A MODULAR RNA   \n",
       "1  THE STRUCTURE OF AN RNA PSEUDOKNOT THAT CAUSES...   \n",
       "2  24-MER RNA HAIRPIN COAT PROTEIN BINDING SITE F...   \n",
       "3  P1 HELIX NUCLEIC ACIDS (DNA/RNA) RIBONUCLEIC ACID   \n",
       "4  THREE-DIMENSIONAL STRUCTURE OF A HAMMERHEAD RI...   \n",
       "\n",
       "                                       all_sequences  \n",
       "0  >1SCL_1|Chain A|RNA SARCIN-RICIN LOOP|Rattus n...  \n",
       "1  >1RNK_1|Chain A|RNA PSEUDOKNOT|null\\nGGCGCAGUG...  \n",
       "2  >1RHT_1|Chain A|RNA (5'-R(P*GP*GP*GP*AP*CP*UP*...  \n",
       "3  >1HLX_1|Chain A|RNA (5'-R(*GP*GP*GP*AP*UP*AP*A...  \n",
       "4  >1HMH_1|Chains A, C, E|HAMMERHEAD RIBOZYME-RNA...  "
      ]
     },
     "metadata": {},
     "output_type": "display_data"
    }
   ],
   "source": [
    "display('df_train_sequences')\n",
    "display(df_train_sequences.head())"
   ]
  },
  {
   "cell_type": "markdown",
   "metadata": {},
   "source": [
    "## df_train_labels (3D RNA Structure)\n",
    "- **ID**: Unique identifier for each nucleotide in the RNA sequence.  \n",
    "  - **Focus on 1SCL**: The RNA structure **\"1SCL\"** consists of a **single chain (Chain A) with 29 nucleotides**. The sequence length defines the numbering **1–29**.  \n",
    "- **Resname**: The **Residue Name**, representing the type of nucleotide (**A, G, U, C**).  \n",
    "- **x1, y1, z1**: **3D Cartesian coordinates** of the **C1' (C1-prime) carbon atom**. These coordinates define the **spatial position** of the nucleotide in the 3D RNA structure.  \n",
    "  - **Focus on C1'**: The **C1' carbon atom serves as the central reference point** for each nucleotide in structural studies.  \n",
    "\n",
    "\n"
   ]
  },
  {
   "cell_type": "code",
   "execution_count": 74,
   "metadata": {},
   "outputs": [
    {
     "data": {
      "text/plain": [
       "'df_train_labels'"
      ]
     },
     "metadata": {},
     "output_type": "display_data"
    },
    {
     "data": {
      "application/vnd.microsoft.datawrangler.viewer.v0+json": {
       "columns": [
        {
         "name": "index",
         "rawType": "int64",
         "type": "integer"
        },
        {
         "name": "ID",
         "rawType": "object",
         "type": "string"
        },
        {
         "name": "resname",
         "rawType": "object",
         "type": "string"
        },
        {
         "name": "resid",
         "rawType": "int64",
         "type": "integer"
        },
        {
         "name": "x_1",
         "rawType": "float64",
         "type": "float"
        },
        {
         "name": "y_1",
         "rawType": "float64",
         "type": "float"
        },
        {
         "name": "z_1",
         "rawType": "float64",
         "type": "float"
        }
       ],
       "conversionMethod": "pd.DataFrame",
       "ref": "69a98489-1a6e-40c6-92ad-5bf32759e4df",
       "rows": [
        [
         "0",
         "1SCL_A_1",
         "G",
         "1",
         "13.760000228881836",
         "-25.974000930786133",
         "0.1019999980926513"
        ],
        [
         "1",
         "1SCL_A_2",
         "G",
         "2",
         "9.3100004196167",
         "-29.63800048828125",
         "2.6689999103546143"
        ],
        [
         "2",
         "1SCL_A_3",
         "G",
         "3",
         "5.52899980545044",
         "-27.8129997253418",
         "5.877999782562256"
        ],
        [
         "3",
         "1SCL_A_4",
         "U",
         "4",
         "2.677999973297119",
         "-24.900999069213867",
         "9.79300022125244"
        ],
        [
         "4",
         "1SCL_A_5",
         "G",
         "5",
         "1.8270000219345093",
         "-20.13599967956543",
         "11.79300022125244"
        ],
        [
         "5",
         "1SCL_A_6",
         "C",
         "6",
         "2.039999961853028",
         "-14.907999992370604",
         "11.770999908447266"
        ],
        [
         "6",
         "1SCL_A_7",
         "U",
         "7",
         "1.1069999933242798",
         "-11.512999534606934",
         "7.517000198364258"
        ],
        [
         "7",
         "1SCL_A_8",
         "C",
         "8",
         "2.990999937057495",
         "-6.406000137329102",
         "4.7829999923706055"
        ],
        [
         "8",
         "1SCL_A_9",
         "A",
         "9",
         "0.8960000276565552",
         "-1.1929999589920044",
         "7.607999801635742"
        ],
        [
         "9",
         "1SCL_A_10",
         "G",
         "10",
         "0.2280000001192093",
         "2.6459999084472656",
         "9.128000259399414"
        ],
        [
         "10",
         "1SCL_A_11",
         "U",
         "11",
         "4.328999996185303",
         "2.7179999351501465",
         "4.803999900817871"
        ],
        [
         "11",
         "1SCL_A_12",
         "A",
         "12",
         "5.164999961853027",
         "4.791999816894531",
         "-0.9139999747276306"
        ],
        [
         "12",
         "1SCL_A_13",
         "C",
         "13",
         "2.609999895095825",
         "9.494999885559082",
         "-2.308000087738037"
        ],
        [
         "13",
         "1SCL_A_14",
         "G",
         "14",
         "1.1740000247955322",
         "13.82900047302246",
         "0.2010000050067901"
        ],
        [
         "14",
         "1SCL_A_15",
         "A",
         "15",
         "1.5800000429153442",
         "20.114999771118164",
         "3.759999990463257"
        ],
        [
         "15",
         "1SCL_A_16",
         "G",
         "16",
         "-1.5750000476837158",
         "16.92799949645996",
         "5.896999835968018"
        ],
        [
         "16",
         "1SCL_A_17",
         "A",
         "17",
         "-6.051000118255615",
         "14.76200008392334",
         "5.223999977111816"
        ],
        [
         "17",
         "1SCL_A_18",
         "G",
         "18",
         "-5.553999900817871",
         "10.414999961853027",
         "4.309000015258789"
        ],
        [
         "18",
         "1SCL_A_19",
         "G",
         "19",
         "-3.1070001125335693",
         "6.40500020980835",
         "2.119999885559082"
        ],
        [
         "19",
         "1SCL_A_20",
         "A",
         "20",
         "-1.409999966621399",
         "3.3350000381469727",
         "-2.6549999713897705"
        ],
        [
         "20",
         "1SCL_A_21",
         "A",
         "21",
         "1.866000056266785",
         "-0.7160000205039978",
         "-4.333000183105469"
        ],
        [
         "21",
         "1SCL_A_22",
         "C",
         "22",
         "3.6549999713897705",
         "-4.443999767303467",
         "-2.484999895095825"
        ],
        [
         "22",
         "1SCL_A_23",
         "C",
         "23",
         "5.314000129699707",
         "-7.656000137329102",
         "1.1299999952316284"
        ],
        [
         "23",
         "1SCL_A_24",
         "G",
         "24",
         "7.931000232696533",
         "-9.527999877929688",
         "5.781000137329102"
        ],
        [
         "24",
         "1SCL_A_25",
         "C",
         "25",
         "8.734999656677246",
         "-12.64799976348877",
         "10.024999618530272"
        ],
        [
         "25",
         "1SCL_A_26",
         "A",
         "26",
         "9.107999801635742",
         "-17.29599952697754",
         "13.020999908447266"
        ],
        [
         "26",
         "1SCL_A_27",
         "C",
         "27",
         "8.897000312805176",
         "-22.606000900268555",
         "14.30799961090088"
        ],
        [
         "27",
         "1SCL_A_28",
         "C",
         "28",
         "9.67300033569336",
         "-28.33799934387207",
         "13.291999816894531"
        ],
        [
         "28",
         "1SCL_A_29",
         "C",
         "29",
         "12.640999794006348",
         "-30.90699958801269",
         "9.645000457763672"
        ],
        [
         "29",
         "1RNK_A_1",
         "G",
         "1",
         "4.264999866485596",
         "1.955000042915344",
         "-10.866999626159668"
        ],
        [
         "30",
         "1RNK_A_2",
         "G",
         "2",
         "-0.6150000095367432",
         "2.2309999465942383",
         "-9.279000282287598"
        ],
        [
         "31",
         "1RNK_A_3",
         "C",
         "3",
         "-5.801000118255615",
         "0.0160000007599592",
         "-8.399999618530273"
        ],
        [
         "32",
         "1RNK_A_4",
         "G",
         "4",
         "-8.508999824523926",
         "-3.91100001335144",
         "-6.874000072479248"
        ],
        [
         "33",
         "1RNK_A_5",
         "C",
         "5",
         "-10.376999855041504",
         "-8.09000015258789",
         "-4.3460001945495605"
        ],
        [
         "34",
         "1RNK_A_6",
         "A",
         "6",
         "-15.161999702453612",
         "-4.993000030517578",
         "0.9340000152587892"
        ],
        [
         "35",
         "1RNK_A_7",
         "G",
         "7",
         "-17.687999725341797",
         "-2.065999984741211",
         "0.1889999955892563"
        ],
        [
         "36",
         "1RNK_A_8",
         "U",
         "8",
         "-22.23200035095215",
         "-0.0970000028610229",
         "7.623000144958496"
        ],
        [
         "37",
         "1RNK_A_9",
         "G",
         "9",
         "-18.481000900268555",
         "-2.226999998092652",
         "10.937999725341797"
        ],
        [
         "38",
         "1RNK_A_10",
         "G",
         "10",
         "-16.235000610351562",
         "-6.064000129699707",
         "13.248000144958496"
        ],
        [
         "39",
         "1RNK_A_11",
         "G",
         "11",
         "-14.427000045776367",
         "-11.678999900817873",
         "13.864999771118164"
        ],
        [
         "40",
         "1RNK_A_12",
         "C",
         "12",
         "-10.845999717712402",
         "-15.425000190734863",
         "10.121999740600586"
        ],
        [
         "41",
         "1RNK_A_13",
         "U",
         "13",
         "-6.977000236511231",
         "-14.38700008392334",
         "6.314000129699707"
        ],
        [
         "42",
         "1RNK_A_14",
         "A",
         "14",
         "-2.921999931335449",
         "-14.633999824523926",
         "2.7230000495910645"
        ],
        [
         "43",
         "1RNK_A_15",
         "G",
         "15",
         "-2.282999992370605",
         "-14.40999984741211",
         "-2.013000011444092"
        ],
        [
         "44",
         "1RNK_A_16",
         "C",
         "16",
         "-2.9800000190734863",
         "-12.843999862670898",
         "-6.459000110626221"
        ],
        [
         "45",
         "1RNK_A_17",
         "G",
         "17",
         "-5.116000175476074",
         "-10.354999542236328",
         "-10.562999725341797"
        ],
        [
         "46",
         "1RNK_A_18",
         "C",
         "18",
         "-5.839000225067139",
         "-5.98799991607666",
         "-13.463000297546388"
        ],
        [
         "47",
         "1RNK_A_19",
         "C",
         "19",
         "-5.071000099182129",
         "-1.4140000343322754",
         "-15.100000381469728"
        ],
        [
         "48",
         "1RNK_A_20",
         "A",
         "20",
         "-2.3989999294281006",
         "2.572000026702881",
         "-15.293999671936035"
        ],
        [
         "49",
         "1RNK_A_21",
         "C",
         "21",
         "2.058000087738037",
         "4.933000087738037",
         "-17.006000518798828"
        ]
       ],
       "shape": {
        "columns": 6,
        "rows": 50
       }
      },
      "text/html": [
       "<div>\n",
       "<style scoped>\n",
       "    .dataframe tbody tr th:only-of-type {\n",
       "        vertical-align: middle;\n",
       "    }\n",
       "\n",
       "    .dataframe tbody tr th {\n",
       "        vertical-align: top;\n",
       "    }\n",
       "\n",
       "    .dataframe thead th {\n",
       "        text-align: right;\n",
       "    }\n",
       "</style>\n",
       "<table border=\"1\" class=\"dataframe\">\n",
       "  <thead>\n",
       "    <tr style=\"text-align: right;\">\n",
       "      <th></th>\n",
       "      <th>ID</th>\n",
       "      <th>resname</th>\n",
       "      <th>resid</th>\n",
       "      <th>x_1</th>\n",
       "      <th>y_1</th>\n",
       "      <th>z_1</th>\n",
       "    </tr>\n",
       "  </thead>\n",
       "  <tbody>\n",
       "    <tr>\n",
       "      <th>0</th>\n",
       "      <td>1SCL_A_1</td>\n",
       "      <td>G</td>\n",
       "      <td>1</td>\n",
       "      <td>13.760000</td>\n",
       "      <td>-25.974001</td>\n",
       "      <td>0.102000</td>\n",
       "    </tr>\n",
       "    <tr>\n",
       "      <th>1</th>\n",
       "      <td>1SCL_A_2</td>\n",
       "      <td>G</td>\n",
       "      <td>2</td>\n",
       "      <td>9.310000</td>\n",
       "      <td>-29.638000</td>\n",
       "      <td>2.669000</td>\n",
       "    </tr>\n",
       "    <tr>\n",
       "      <th>2</th>\n",
       "      <td>1SCL_A_3</td>\n",
       "      <td>G</td>\n",
       "      <td>3</td>\n",
       "      <td>5.529000</td>\n",
       "      <td>-27.813000</td>\n",
       "      <td>5.878000</td>\n",
       "    </tr>\n",
       "    <tr>\n",
       "      <th>3</th>\n",
       "      <td>1SCL_A_4</td>\n",
       "      <td>U</td>\n",
       "      <td>4</td>\n",
       "      <td>2.678000</td>\n",
       "      <td>-24.900999</td>\n",
       "      <td>9.793000</td>\n",
       "    </tr>\n",
       "    <tr>\n",
       "      <th>4</th>\n",
       "      <td>1SCL_A_5</td>\n",
       "      <td>G</td>\n",
       "      <td>5</td>\n",
       "      <td>1.827000</td>\n",
       "      <td>-20.136000</td>\n",
       "      <td>11.793000</td>\n",
       "    </tr>\n",
       "    <tr>\n",
       "      <th>5</th>\n",
       "      <td>1SCL_A_6</td>\n",
       "      <td>C</td>\n",
       "      <td>6</td>\n",
       "      <td>2.040000</td>\n",
       "      <td>-14.908000</td>\n",
       "      <td>11.771000</td>\n",
       "    </tr>\n",
       "    <tr>\n",
       "      <th>6</th>\n",
       "      <td>1SCL_A_7</td>\n",
       "      <td>U</td>\n",
       "      <td>7</td>\n",
       "      <td>1.107000</td>\n",
       "      <td>-11.513000</td>\n",
       "      <td>7.517000</td>\n",
       "    </tr>\n",
       "    <tr>\n",
       "      <th>7</th>\n",
       "      <td>1SCL_A_8</td>\n",
       "      <td>C</td>\n",
       "      <td>8</td>\n",
       "      <td>2.991000</td>\n",
       "      <td>-6.406000</td>\n",
       "      <td>4.783000</td>\n",
       "    </tr>\n",
       "    <tr>\n",
       "      <th>8</th>\n",
       "      <td>1SCL_A_9</td>\n",
       "      <td>A</td>\n",
       "      <td>9</td>\n",
       "      <td>0.896000</td>\n",
       "      <td>-1.193000</td>\n",
       "      <td>7.608000</td>\n",
       "    </tr>\n",
       "    <tr>\n",
       "      <th>9</th>\n",
       "      <td>1SCL_A_10</td>\n",
       "      <td>G</td>\n",
       "      <td>10</td>\n",
       "      <td>0.228000</td>\n",
       "      <td>2.646000</td>\n",
       "      <td>9.128000</td>\n",
       "    </tr>\n",
       "    <tr>\n",
       "      <th>10</th>\n",
       "      <td>1SCL_A_11</td>\n",
       "      <td>U</td>\n",
       "      <td>11</td>\n",
       "      <td>4.329000</td>\n",
       "      <td>2.718000</td>\n",
       "      <td>4.804000</td>\n",
       "    </tr>\n",
       "    <tr>\n",
       "      <th>11</th>\n",
       "      <td>1SCL_A_12</td>\n",
       "      <td>A</td>\n",
       "      <td>12</td>\n",
       "      <td>5.165000</td>\n",
       "      <td>4.792000</td>\n",
       "      <td>-0.914000</td>\n",
       "    </tr>\n",
       "    <tr>\n",
       "      <th>12</th>\n",
       "      <td>1SCL_A_13</td>\n",
       "      <td>C</td>\n",
       "      <td>13</td>\n",
       "      <td>2.610000</td>\n",
       "      <td>9.495000</td>\n",
       "      <td>-2.308000</td>\n",
       "    </tr>\n",
       "    <tr>\n",
       "      <th>13</th>\n",
       "      <td>1SCL_A_14</td>\n",
       "      <td>G</td>\n",
       "      <td>14</td>\n",
       "      <td>1.174000</td>\n",
       "      <td>13.829000</td>\n",
       "      <td>0.201000</td>\n",
       "    </tr>\n",
       "    <tr>\n",
       "      <th>14</th>\n",
       "      <td>1SCL_A_15</td>\n",
       "      <td>A</td>\n",
       "      <td>15</td>\n",
       "      <td>1.580000</td>\n",
       "      <td>20.115000</td>\n",
       "      <td>3.760000</td>\n",
       "    </tr>\n",
       "    <tr>\n",
       "      <th>15</th>\n",
       "      <td>1SCL_A_16</td>\n",
       "      <td>G</td>\n",
       "      <td>16</td>\n",
       "      <td>-1.575000</td>\n",
       "      <td>16.927999</td>\n",
       "      <td>5.897000</td>\n",
       "    </tr>\n",
       "    <tr>\n",
       "      <th>16</th>\n",
       "      <td>1SCL_A_17</td>\n",
       "      <td>A</td>\n",
       "      <td>17</td>\n",
       "      <td>-6.051000</td>\n",
       "      <td>14.762000</td>\n",
       "      <td>5.224000</td>\n",
       "    </tr>\n",
       "    <tr>\n",
       "      <th>17</th>\n",
       "      <td>1SCL_A_18</td>\n",
       "      <td>G</td>\n",
       "      <td>18</td>\n",
       "      <td>-5.554000</td>\n",
       "      <td>10.415000</td>\n",
       "      <td>4.309000</td>\n",
       "    </tr>\n",
       "    <tr>\n",
       "      <th>18</th>\n",
       "      <td>1SCL_A_19</td>\n",
       "      <td>G</td>\n",
       "      <td>19</td>\n",
       "      <td>-3.107000</td>\n",
       "      <td>6.405000</td>\n",
       "      <td>2.120000</td>\n",
       "    </tr>\n",
       "    <tr>\n",
       "      <th>19</th>\n",
       "      <td>1SCL_A_20</td>\n",
       "      <td>A</td>\n",
       "      <td>20</td>\n",
       "      <td>-1.410000</td>\n",
       "      <td>3.335000</td>\n",
       "      <td>-2.655000</td>\n",
       "    </tr>\n",
       "    <tr>\n",
       "      <th>20</th>\n",
       "      <td>1SCL_A_21</td>\n",
       "      <td>A</td>\n",
       "      <td>21</td>\n",
       "      <td>1.866000</td>\n",
       "      <td>-0.716000</td>\n",
       "      <td>-4.333000</td>\n",
       "    </tr>\n",
       "    <tr>\n",
       "      <th>21</th>\n",
       "      <td>1SCL_A_22</td>\n",
       "      <td>C</td>\n",
       "      <td>22</td>\n",
       "      <td>3.655000</td>\n",
       "      <td>-4.444000</td>\n",
       "      <td>-2.485000</td>\n",
       "    </tr>\n",
       "    <tr>\n",
       "      <th>22</th>\n",
       "      <td>1SCL_A_23</td>\n",
       "      <td>C</td>\n",
       "      <td>23</td>\n",
       "      <td>5.314000</td>\n",
       "      <td>-7.656000</td>\n",
       "      <td>1.130000</td>\n",
       "    </tr>\n",
       "    <tr>\n",
       "      <th>23</th>\n",
       "      <td>1SCL_A_24</td>\n",
       "      <td>G</td>\n",
       "      <td>24</td>\n",
       "      <td>7.931000</td>\n",
       "      <td>-9.528000</td>\n",
       "      <td>5.781000</td>\n",
       "    </tr>\n",
       "    <tr>\n",
       "      <th>24</th>\n",
       "      <td>1SCL_A_25</td>\n",
       "      <td>C</td>\n",
       "      <td>25</td>\n",
       "      <td>8.735000</td>\n",
       "      <td>-12.648000</td>\n",
       "      <td>10.025000</td>\n",
       "    </tr>\n",
       "    <tr>\n",
       "      <th>25</th>\n",
       "      <td>1SCL_A_26</td>\n",
       "      <td>A</td>\n",
       "      <td>26</td>\n",
       "      <td>9.108000</td>\n",
       "      <td>-17.296000</td>\n",
       "      <td>13.021000</td>\n",
       "    </tr>\n",
       "    <tr>\n",
       "      <th>26</th>\n",
       "      <td>1SCL_A_27</td>\n",
       "      <td>C</td>\n",
       "      <td>27</td>\n",
       "      <td>8.897000</td>\n",
       "      <td>-22.606001</td>\n",
       "      <td>14.308000</td>\n",
       "    </tr>\n",
       "    <tr>\n",
       "      <th>27</th>\n",
       "      <td>1SCL_A_28</td>\n",
       "      <td>C</td>\n",
       "      <td>28</td>\n",
       "      <td>9.673000</td>\n",
       "      <td>-28.337999</td>\n",
       "      <td>13.292000</td>\n",
       "    </tr>\n",
       "    <tr>\n",
       "      <th>28</th>\n",
       "      <td>1SCL_A_29</td>\n",
       "      <td>C</td>\n",
       "      <td>29</td>\n",
       "      <td>12.641000</td>\n",
       "      <td>-30.907000</td>\n",
       "      <td>9.645000</td>\n",
       "    </tr>\n",
       "    <tr>\n",
       "      <th>29</th>\n",
       "      <td>1RNK_A_1</td>\n",
       "      <td>G</td>\n",
       "      <td>1</td>\n",
       "      <td>4.265000</td>\n",
       "      <td>1.955000</td>\n",
       "      <td>-10.867000</td>\n",
       "    </tr>\n",
       "    <tr>\n",
       "      <th>30</th>\n",
       "      <td>1RNK_A_2</td>\n",
       "      <td>G</td>\n",
       "      <td>2</td>\n",
       "      <td>-0.615000</td>\n",
       "      <td>2.231000</td>\n",
       "      <td>-9.279000</td>\n",
       "    </tr>\n",
       "    <tr>\n",
       "      <th>31</th>\n",
       "      <td>1RNK_A_3</td>\n",
       "      <td>C</td>\n",
       "      <td>3</td>\n",
       "      <td>-5.801000</td>\n",
       "      <td>0.016000</td>\n",
       "      <td>-8.400000</td>\n",
       "    </tr>\n",
       "    <tr>\n",
       "      <th>32</th>\n",
       "      <td>1RNK_A_4</td>\n",
       "      <td>G</td>\n",
       "      <td>4</td>\n",
       "      <td>-8.509000</td>\n",
       "      <td>-3.911000</td>\n",
       "      <td>-6.874000</td>\n",
       "    </tr>\n",
       "    <tr>\n",
       "      <th>33</th>\n",
       "      <td>1RNK_A_5</td>\n",
       "      <td>C</td>\n",
       "      <td>5</td>\n",
       "      <td>-10.377000</td>\n",
       "      <td>-8.090000</td>\n",
       "      <td>-4.346000</td>\n",
       "    </tr>\n",
       "    <tr>\n",
       "      <th>34</th>\n",
       "      <td>1RNK_A_6</td>\n",
       "      <td>A</td>\n",
       "      <td>6</td>\n",
       "      <td>-15.162000</td>\n",
       "      <td>-4.993000</td>\n",
       "      <td>0.934000</td>\n",
       "    </tr>\n",
       "    <tr>\n",
       "      <th>35</th>\n",
       "      <td>1RNK_A_7</td>\n",
       "      <td>G</td>\n",
       "      <td>7</td>\n",
       "      <td>-17.688000</td>\n",
       "      <td>-2.066000</td>\n",
       "      <td>0.189000</td>\n",
       "    </tr>\n",
       "    <tr>\n",
       "      <th>36</th>\n",
       "      <td>1RNK_A_8</td>\n",
       "      <td>U</td>\n",
       "      <td>8</td>\n",
       "      <td>-22.232000</td>\n",
       "      <td>-0.097000</td>\n",
       "      <td>7.623000</td>\n",
       "    </tr>\n",
       "    <tr>\n",
       "      <th>37</th>\n",
       "      <td>1RNK_A_9</td>\n",
       "      <td>G</td>\n",
       "      <td>9</td>\n",
       "      <td>-18.481001</td>\n",
       "      <td>-2.227000</td>\n",
       "      <td>10.938000</td>\n",
       "    </tr>\n",
       "    <tr>\n",
       "      <th>38</th>\n",
       "      <td>1RNK_A_10</td>\n",
       "      <td>G</td>\n",
       "      <td>10</td>\n",
       "      <td>-16.235001</td>\n",
       "      <td>-6.064000</td>\n",
       "      <td>13.248000</td>\n",
       "    </tr>\n",
       "    <tr>\n",
       "      <th>39</th>\n",
       "      <td>1RNK_A_11</td>\n",
       "      <td>G</td>\n",
       "      <td>11</td>\n",
       "      <td>-14.427000</td>\n",
       "      <td>-11.679000</td>\n",
       "      <td>13.865000</td>\n",
       "    </tr>\n",
       "    <tr>\n",
       "      <th>40</th>\n",
       "      <td>1RNK_A_12</td>\n",
       "      <td>C</td>\n",
       "      <td>12</td>\n",
       "      <td>-10.846000</td>\n",
       "      <td>-15.425000</td>\n",
       "      <td>10.122000</td>\n",
       "    </tr>\n",
       "    <tr>\n",
       "      <th>41</th>\n",
       "      <td>1RNK_A_13</td>\n",
       "      <td>U</td>\n",
       "      <td>13</td>\n",
       "      <td>-6.977000</td>\n",
       "      <td>-14.387000</td>\n",
       "      <td>6.314000</td>\n",
       "    </tr>\n",
       "    <tr>\n",
       "      <th>42</th>\n",
       "      <td>1RNK_A_14</td>\n",
       "      <td>A</td>\n",
       "      <td>14</td>\n",
       "      <td>-2.922000</td>\n",
       "      <td>-14.634000</td>\n",
       "      <td>2.723000</td>\n",
       "    </tr>\n",
       "    <tr>\n",
       "      <th>43</th>\n",
       "      <td>1RNK_A_15</td>\n",
       "      <td>G</td>\n",
       "      <td>15</td>\n",
       "      <td>-2.283000</td>\n",
       "      <td>-14.410000</td>\n",
       "      <td>-2.013000</td>\n",
       "    </tr>\n",
       "    <tr>\n",
       "      <th>44</th>\n",
       "      <td>1RNK_A_16</td>\n",
       "      <td>C</td>\n",
       "      <td>16</td>\n",
       "      <td>-2.980000</td>\n",
       "      <td>-12.844000</td>\n",
       "      <td>-6.459000</td>\n",
       "    </tr>\n",
       "    <tr>\n",
       "      <th>45</th>\n",
       "      <td>1RNK_A_17</td>\n",
       "      <td>G</td>\n",
       "      <td>17</td>\n",
       "      <td>-5.116000</td>\n",
       "      <td>-10.355000</td>\n",
       "      <td>-10.563000</td>\n",
       "    </tr>\n",
       "    <tr>\n",
       "      <th>46</th>\n",
       "      <td>1RNK_A_18</td>\n",
       "      <td>C</td>\n",
       "      <td>18</td>\n",
       "      <td>-5.839000</td>\n",
       "      <td>-5.988000</td>\n",
       "      <td>-13.463000</td>\n",
       "    </tr>\n",
       "    <tr>\n",
       "      <th>47</th>\n",
       "      <td>1RNK_A_19</td>\n",
       "      <td>C</td>\n",
       "      <td>19</td>\n",
       "      <td>-5.071000</td>\n",
       "      <td>-1.414000</td>\n",
       "      <td>-15.100000</td>\n",
       "    </tr>\n",
       "    <tr>\n",
       "      <th>48</th>\n",
       "      <td>1RNK_A_20</td>\n",
       "      <td>A</td>\n",
       "      <td>20</td>\n",
       "      <td>-2.399000</td>\n",
       "      <td>2.572000</td>\n",
       "      <td>-15.294000</td>\n",
       "    </tr>\n",
       "    <tr>\n",
       "      <th>49</th>\n",
       "      <td>1RNK_A_21</td>\n",
       "      <td>C</td>\n",
       "      <td>21</td>\n",
       "      <td>2.058000</td>\n",
       "      <td>4.933000</td>\n",
       "      <td>-17.006001</td>\n",
       "    </tr>\n",
       "  </tbody>\n",
       "</table>\n",
       "</div>"
      ],
      "text/plain": [
       "           ID resname  resid        x_1        y_1        z_1\n",
       "0    1SCL_A_1       G      1  13.760000 -25.974001   0.102000\n",
       "1    1SCL_A_2       G      2   9.310000 -29.638000   2.669000\n",
       "2    1SCL_A_3       G      3   5.529000 -27.813000   5.878000\n",
       "3    1SCL_A_4       U      4   2.678000 -24.900999   9.793000\n",
       "4    1SCL_A_5       G      5   1.827000 -20.136000  11.793000\n",
       "5    1SCL_A_6       C      6   2.040000 -14.908000  11.771000\n",
       "6    1SCL_A_7       U      7   1.107000 -11.513000   7.517000\n",
       "7    1SCL_A_8       C      8   2.991000  -6.406000   4.783000\n",
       "8    1SCL_A_9       A      9   0.896000  -1.193000   7.608000\n",
       "9   1SCL_A_10       G     10   0.228000   2.646000   9.128000\n",
       "10  1SCL_A_11       U     11   4.329000   2.718000   4.804000\n",
       "11  1SCL_A_12       A     12   5.165000   4.792000  -0.914000\n",
       "12  1SCL_A_13       C     13   2.610000   9.495000  -2.308000\n",
       "13  1SCL_A_14       G     14   1.174000  13.829000   0.201000\n",
       "14  1SCL_A_15       A     15   1.580000  20.115000   3.760000\n",
       "15  1SCL_A_16       G     16  -1.575000  16.927999   5.897000\n",
       "16  1SCL_A_17       A     17  -6.051000  14.762000   5.224000\n",
       "17  1SCL_A_18       G     18  -5.554000  10.415000   4.309000\n",
       "18  1SCL_A_19       G     19  -3.107000   6.405000   2.120000\n",
       "19  1SCL_A_20       A     20  -1.410000   3.335000  -2.655000\n",
       "20  1SCL_A_21       A     21   1.866000  -0.716000  -4.333000\n",
       "21  1SCL_A_22       C     22   3.655000  -4.444000  -2.485000\n",
       "22  1SCL_A_23       C     23   5.314000  -7.656000   1.130000\n",
       "23  1SCL_A_24       G     24   7.931000  -9.528000   5.781000\n",
       "24  1SCL_A_25       C     25   8.735000 -12.648000  10.025000\n",
       "25  1SCL_A_26       A     26   9.108000 -17.296000  13.021000\n",
       "26  1SCL_A_27       C     27   8.897000 -22.606001  14.308000\n",
       "27  1SCL_A_28       C     28   9.673000 -28.337999  13.292000\n",
       "28  1SCL_A_29       C     29  12.641000 -30.907000   9.645000\n",
       "29   1RNK_A_1       G      1   4.265000   1.955000 -10.867000\n",
       "30   1RNK_A_2       G      2  -0.615000   2.231000  -9.279000\n",
       "31   1RNK_A_3       C      3  -5.801000   0.016000  -8.400000\n",
       "32   1RNK_A_4       G      4  -8.509000  -3.911000  -6.874000\n",
       "33   1RNK_A_5       C      5 -10.377000  -8.090000  -4.346000\n",
       "34   1RNK_A_6       A      6 -15.162000  -4.993000   0.934000\n",
       "35   1RNK_A_7       G      7 -17.688000  -2.066000   0.189000\n",
       "36   1RNK_A_8       U      8 -22.232000  -0.097000   7.623000\n",
       "37   1RNK_A_9       G      9 -18.481001  -2.227000  10.938000\n",
       "38  1RNK_A_10       G     10 -16.235001  -6.064000  13.248000\n",
       "39  1RNK_A_11       G     11 -14.427000 -11.679000  13.865000\n",
       "40  1RNK_A_12       C     12 -10.846000 -15.425000  10.122000\n",
       "41  1RNK_A_13       U     13  -6.977000 -14.387000   6.314000\n",
       "42  1RNK_A_14       A     14  -2.922000 -14.634000   2.723000\n",
       "43  1RNK_A_15       G     15  -2.283000 -14.410000  -2.013000\n",
       "44  1RNK_A_16       C     16  -2.980000 -12.844000  -6.459000\n",
       "45  1RNK_A_17       G     17  -5.116000 -10.355000 -10.563000\n",
       "46  1RNK_A_18       C     18  -5.839000  -5.988000 -13.463000\n",
       "47  1RNK_A_19       C     19  -5.071000  -1.414000 -15.100000\n",
       "48  1RNK_A_20       A     20  -2.399000   2.572000 -15.294000\n",
       "49  1RNK_A_21       C     21   2.058000   4.933000 -17.006001"
      ]
     },
     "metadata": {},
     "output_type": "display_data"
    }
   ],
   "source": [
    "display('df_train_labels')\n",
    "display(df_train_labels.head(50))"
   ]
  },
  {
   "cell_type": "markdown",
   "metadata": {},
   "source": [
    "## The Rest of the Data\n",
    "The **validation datasets** (`df_validation_sequence` and `df_validation_labels`) have the **same structure** as the training dataframes.  \n",
    "\n",
    "The **test dataset** (`df_test_sequence`) is identical to `df_sequence`, but the **3D structure labels** need to be predicted.\n"
   ]
  },
  {
   "cell_type": "markdown",
   "metadata": {},
   "source": [
    "## Distribution (Boxplot) of the lenght of the RNA sequences"
   ]
  },
  {
   "cell_type": "code",
   "execution_count": 75,
   "metadata": {},
   "outputs": [
    {
     "name": "stdout",
     "output_type": "stream",
     "text": [
      "       Statistic   Value\n",
      "0            Min     3.0\n",
      "1  Lower Whisker     3.0\n",
      "2       Q1 (25%)    22.0\n",
      "3   Median (50%)    39.5\n",
      "4       Q3 (75%)    86.0\n",
      "5  Upper Whisker   182.0\n",
      "6            Max  4298.0\n"
     ]
    },
    {
     "data": {
      "image/png": "[encoded data removed]",
      "text/plain": [
       "<Figure size 1000x500 with 1 Axes>"
      ]
     },
     "metadata": {},
     "output_type": "display_data"
    }
   ],
   "source": [
    "df_train_sequences[\"length\"] = df_train_sequences[\"sequence\"].str.len()\n",
    "\n",
    "\n",
    "median_value = df_train_sequences[\"length\"].median()\n",
    "q1 = df_train_sequences[\"length\"].quantile(0.25)  \n",
    "q3 = df_train_sequences[\"length\"].quantile(0.75)  \n",
    "iqr = q3 - q1 \n",
    "\n",
    "lower_whisker = max(df_train_sequences[\"length\"].min(), q1 - 1.5 * iqr)\n",
    "upper_whisker = min(df_train_sequences[\"length\"].max(), q3 + 1.5 * iqr)\n",
    "\n",
    "min_value = df_train_sequences[\"length\"].min()\n",
    "max_value = df_train_sequences[\"length\"].max()\n",
    "\n",
    "stats_df = pd.DataFrame({\n",
    "    \"Statistic\": [\"Min\", \"Lower Whisker\", \"Q1 (25%)\", \"Median (50%)\", \"Q3 (75%)\", \"Upper Whisker\", \"Max\"],\n",
    "    \"Value\": [min_value, lower_whisker, q1, median_value, q3, upper_whisker, max_value]\n",
    "})\n",
    "\n",
    "print(stats_df)\n",
    "plt.figure(figsize=(10, 5))\n",
    "sns.boxplot(x=df_train_sequences[\"length\"])\n",
    "plt.title(\"Distribution of the Length of RNA Sequences\")\n",
    "plt.xlabel(\"Sequence Length\")\n",
    "plt.show()"
   ]
  },
  {
   "cell_type": "markdown",
   "metadata": {},
   "source": [
    "## Visualize the 3D RNA Structure"
   ]
  },
  {
   "cell_type": "code",
   "execution_count": 76,
   "metadata": {},
   "outputs": [
    {
     "data": {
      "application/vnd.plotly.v1+json": {
       "config": {
        "plotlyServerURL": "https://plot.ly"
       },
       "data": [
        {
         "marker": {
          "color": "blue",
          "opacity": 0.8,
          "size": 6
         },
         "mode": "markers",
         "name": "C1' Carbon Atoms",
         "text": [
          "G",
          "G",
          "G",
          "U",
          "G",
          "C",
          "U",
          "C",
          "A",
          "G",
          "U",
          "A",
          "C",
          "G",
          "A",
          "G",
          "A",
          "G",
          "G",
          "A",
          "A",
          "C",
          "C",
          "G",
          "C",
          "A",
          "C",
          "C",
          "C"
         ],
         "type": "scatter3d",
         "x": [
          13.760000228881836,
          9.3100004196167,
          5.52899980545044,
          2.677999973297119,
          1.8270000219345093,
          2.039999961853028,
          1.1069999933242798,
          2.990999937057495,
          0.8960000276565552,
          0.2280000001192093,
          4.328999996185303,
          5.164999961853027,
          2.609999895095825,
          1.1740000247955322,
          1.5800000429153442,
          -1.5750000476837158,
          -6.051000118255615,
          -5.553999900817871,
          -3.1070001125335693,
          -1.409999966621399,
          1.866000056266785,
          3.6549999713897705,
          5.314000129699707,
          7.931000232696533,
          8.734999656677246,
          9.107999801635742,
          8.897000312805176,
          9.67300033569336,
          12.640999794006348
         ],
         "y": [
          -25.974000930786133,
          -29.63800048828125,
          -27.8129997253418,
          -24.900999069213867,
          -20.13599967956543,
          -14.907999992370604,
          -11.512999534606934,
          -6.406000137329102,
          -1.1929999589920044,
          2.6459999084472656,
          2.7179999351501465,
          4.791999816894531,
          9.494999885559082,
          13.82900047302246,
          20.114999771118164,
          16.92799949645996,
          14.76200008392334,
          10.414999961853027,
          6.40500020980835,
          3.3350000381469727,
          -0.7160000205039978,
          -4.443999767303467,
          -7.656000137329102,
          -9.527999877929688,
          -12.64799976348877,
          -17.29599952697754,
          -22.606000900268555,
          -28.33799934387207,
          -30.90699958801269
         ],
         "z": [
          0.1019999980926513,
          2.6689999103546143,
          5.877999782562256,
          9.79300022125244,
          11.79300022125244,
          11.770999908447266,
          7.517000198364258,
          4.7829999923706055,
          7.607999801635742,
          9.128000259399414,
          4.803999900817871,
          -0.9139999747276306,
          -2.308000087738037,
          0.2010000050067901,
          3.759999990463257,
          5.896999835968018,
          5.223999977111816,
          4.309000015258789,
          2.119999885559082,
          -2.6549999713897705,
          -4.333000183105469,
          -2.484999895095825,
          1.1299999952316284,
          5.781000137329102,
          10.024999618530272,
          13.020999908447266,
          14.30799961090088,
          13.291999816894531,
          9.645000457763672
         ]
        }
       ],
       "layout": {
        "scene": {
         "xaxis": {
          "title": {
           "text": "X Coordinate"
          }
         },
         "yaxis": {
          "title": {
           "text": "Y Coordinate"
          }
         },
         "zaxis": {
          "title": {
           "text": "Z Coordinate"
          }
         }
        },
        "template": {
         "data": {
          "bar": [
           {
            "error_x": {
             "color": "#2a3f5f"
            },
            "error_y": {
             "color": "#2a3f5f"
            },
            "marker": {
             "line": {
              "color": "#E5ECF6",
              "width": 0.5
             },
             "pattern": {
              "fillmode": "overlay",
              "size": 10,
              "solidity": 0.2
             }
            },
            "type": "bar"
           }
          ],
          "barpolar": [
           {
            "marker": {
             "line": {
              "color": "#E5ECF6",
              "width": 0.5
             },
             "pattern": {
              "fillmode": "overlay",
              "size": 10,
              "solidity": 0.2
             }
            },
            "type": "barpolar"
           }
          ],
          "carpet": [
           {
            "aaxis": {
             "endlinecolor": "#2a3f5f",
             "gridcolor": "white",
             "linecolor": "white",
             "minorgridcolor": "white",
             "startlinecolor": "#2a3f5f"
            },
            "baxis": {
             "endlinecolor": "#2a3f5f",
             "gridcolor": "white",
             "linecolor": "white",
             "minorgridcolor": "white",
             "startlinecolor": "#2a3f5f"
            },
            "type": "carpet"
           }
          ],
          "choropleth": [
           {
            "colorbar": {
             "outlinewidth": 0,
             "ticks": ""
            },
            "type": "choropleth"
           }
          ],
          "contour": [
           {
            "colorbar": {
             "outlinewidth": 0,
             "ticks": ""
            },
            "colorscale": [
             [
              0,
              "#0d0887"
             ],
             [
              0.1111111111111111,
              "#46039f"
             ],
             [
              0.2222222222222222,
              "#7201a8"
             ],
             [
              0.3333333333333333,
              "#9c179e"
             ],
             [
              0.4444444444444444,
              "#bd3786"
             ],
             [
              0.5555555555555556,
              "#d8576b"
             ],
             [
              0.6666666666666666,
              "#ed7953"
             ],
             [
              0.7777777777777778,
              "#fb9f3a"
             ],
             [
              0.8888888888888888,
              "#fdca26"
             ],
             [
              1,
              "#f0f921"
             ]
            ],
            "type": "contour"
           }
          ],
          "contourcarpet": [
           {
            "colorbar": {
             "outlinewidth": 0,
             "ticks": ""
            },
            "type": "contourcarpet"
           }
          ],
          "heatmap": [
           {
            "colorbar": {
             "outlinewidth": 0,
             "ticks": ""
            },
            "colorscale": [
             [
              0,
              "#0d0887"
             ],
             [
              0.1111111111111111,
              "#46039f"
             ],
             [
              0.2222222222222222,
              "#7201a8"
             ],
             [
              0.3333333333333333,
              "#9c179e"
             ],
             [
              0.4444444444444444,
              "#bd3786"
             ],
             [
              0.5555555555555556,
              "#d8576b"
             ],
             [
              0.6666666666666666,
              "#ed7953"
             ],
             [
              0.7777777777777778,
              "#fb9f3a"
             ],
             [
              0.8888888888888888,
              "#fdca26"
             ],
             [
              1,
              "#f0f921"
             ]
            ],
            "type": "heatmap"
           }
          ],
          "heatmapgl": [
           {
            "colorbar": {
             "outlinewidth": 0,
             "ticks": ""
            },
            "colorscale": [
             [
              0,
              "#0d0887"
             ],
             [
              0.1111111111111111,
              "#46039f"
             ],
             [
              0.2222222222222222,
              "#7201a8"
             ],
             [
              0.3333333333333333,
              "#9c179e"
             ],
             [
              0.4444444444444444,
              "#bd3786"
             ],
             [
              0.5555555555555556,
              "#d8576b"
             ],
             [
              0.6666666666666666,
              "#ed7953"
             ],
             [
              0.7777777777777778,
              "#fb9f3a"
             ],
             [
              0.8888888888888888,
              "#fdca26"
             ],
             [
              1,
              "#f0f921"
             ]
            ],
            "type": "heatmapgl"
           }
          ],
          "histogram": [
           {
            "marker": {
             "pattern": {
              "fillmode": "overlay",
              "size": 10,
              "solidity": 0.2
             }
            },
            "type": "histogram"
           }
          ],
          "histogram2d": [
           {
            "colorbar": {
             "outlinewidth": 0,
             "ticks": ""
            },
            "colorscale": [
             [
              0,
              "#0d0887"
             ],
             [
              0.1111111111111111,
              "#46039f"
             ],
             [
              0.2222222222222222,
              "#7201a8"
             ],
             [
              0.3333333333333333,
              "#9c179e"
             ],
             [
              0.4444444444444444,
              "#bd3786"
             ],
             [
              0.5555555555555556,
              "#d8576b"
             ],
             [
              0.6666666666666666,
              "#ed7953"
             ],
             [
              0.7777777777777778,
              "#fb9f3a"
             ],
             [
              0.8888888888888888,
              "#fdca26"
             ],
             [
              1,
              "#f0f921"
             ]
            ],
            "type": "histogram2d"
           }
          ],
          "histogram2dcontour": [
           {
            "colorbar": {
             "outlinewidth": 0,
             "ticks": ""
            },
            "colorscale": [
             [
              0,
              "#0d0887"
             ],
             [
              0.1111111111111111,
              "#46039f"
             ],
             [
              0.2222222222222222,
              "#7201a8"
             ],
             [
              0.3333333333333333,
              "#9c179e"
             ],
             [
              0.4444444444444444,
              "#bd3786"
             ],
             [
              0.5555555555555556,
              "#d8576b"
             ],
             [
              0.6666666666666666,
              "#ed7953"
             ],
             [
              0.7777777777777778,
              "#fb9f3a"
             ],
             [
              0.8888888888888888,
              "#fdca26"
             ],
             [
              1,
              "#f0f921"
             ]
            ],
            "type": "histogram2dcontour"
           }
          ],
          "mesh3d": [
           {
            "colorbar": {
             "outlinewidth": 0,
             "ticks": ""
            },
            "type": "mesh3d"
           }
          ],
          "parcoords": [
           {
            "line": {
             "colorbar": {
              "outlinewidth": 0,
              "ticks": ""
             }
            },
            "type": "parcoords"
           }
          ],
          "pie": [
           {
            "automargin": true,
            "type": "pie"
           }
          ],
          "scatter": [
           {
            "fillpattern": {
             "fillmode": "overlay",
             "size": 10,
             "solidity": 0.2
            },
            "type": "scatter"
           }
          ],
          "scatter3d": [
           {
            "line": {
             "colorbar": {
              "outlinewidth": 0,
              "ticks": ""
             }
            },
            "marker": {
             "colorbar": {
              "outlinewidth": 0,
              "ticks": ""
             }
            },
            "type": "scatter3d"
           }
          ],
          "scattercarpet": [
           {
            "marker": {
             "colorbar": {
              "outlinewidth": 0,
              "ticks": ""
             }
            },
            "type": "scattercarpet"
           }
          ],
          "scattergeo": [
           {
            "marker": {
             "colorbar": {
              "outlinewidth": 0,
              "ticks": ""
             }
            },
            "type": "scattergeo"
           }
          ],
          "scattergl": [
           {
            "marker": {
             "colorbar": {
              "outlinewidth": 0,
              "ticks": ""
             }
            },
            "type": "scattergl"
           }
          ],
          "scattermapbox": [
           {
            "marker": {
             "colorbar": {
              "outlinewidth": 0,
              "ticks": ""
             }
            },
            "type": "scattermapbox"
           }
          ],
          "scatterpolar": [
           {
            "marker": {
             "colorbar": {
              "outlinewidth": 0,
              "ticks": ""
             }
            },
            "type": "scatterpolar"
           }
          ],
          "scatterpolargl": [
           {
            "marker": {
             "colorbar": {
              "outlinewidth": 0,
              "ticks": ""
             }
            },
            "type": "scatterpolargl"
           }
          ],
          "scatterternary": [
           {
            "marker": {
             "colorbar": {
              "outlinewidth": 0,
              "ticks": ""
             }
            },
            "type": "scatterternary"
           }
          ],
          "surface": [
           {
            "colorbar": {
             "outlinewidth": 0,
             "ticks": ""
            },
            "colorscale": [
             [
              0,
              "#0d0887"
             ],
             [
              0.1111111111111111,
              "#46039f"
             ],
             [
              0.2222222222222222,
              "#7201a8"
             ],
             [
              0.3333333333333333,
              "#9c179e"
             ],
             [
              0.4444444444444444,
              "#bd3786"
             ],
             [
              0.5555555555555556,
              "#d8576b"
             ],
             [
              0.6666666666666666,
              "#ed7953"
             ],
             [
              0.7777777777777778,
              "#fb9f3a"
             ],
             [
              0.8888888888888888,
              "#fdca26"
             ],
             [
              1,
              "#f0f921"
             ]
            ],
            "type": "surface"
           }
          ],
          "table": [
           {
            "cells": {
             "fill": {
              "color": "#EBF0F8"
             },
             "line": {
              "color": "white"
             }
            },
            "header": {
             "fill": {
              "color": "#C8D4E3"
             },
             "line": {
              "color": "white"
             }
            },
            "type": "table"
           }
          ]
         },
         "layout": {
          "annotationdefaults": {
           "arrowcolor": "#2a3f5f",
           "arrowhead": 0,
           "arrowwidth": 1
          },
          "autotypenumbers": "strict",
          "coloraxis": {
           "colorbar": {
            "outlinewidth": 0,
            "ticks": ""
           }
          },
          "colorscale": {
           "diverging": [
            [
             0,
             "#8e0152"
            ],
            [
             0.1,
             "#c51b7d"
            ],
            [
             0.2,
             "#de77ae"
            ],
            [
             0.3,
             "#f1b6da"
            ],
            [
             0.4,
             "#fde0ef"
            ],
            [
             0.5,
             "#f7f7f7"
            ],
            [
             0.6,
             "#e6f5d0"
            ],
            [
             0.7,
             "#b8e186"
            ],
            [
             0.8,
             "#7fbc41"
            ],
            [
             0.9,
             "#4d9221"
            ],
            [
             1,
             "#276419"
            ]
           ],
           "sequential": [
            [
             0,
             "#0d0887"
            ],
            [
             0.1111111111111111,
             "#46039f"
            ],
            [
             0.2222222222222222,
             "#7201a8"
            ],
            [
             0.3333333333333333,
             "#9c179e"
            ],
            [
             0.4444444444444444,
             "#bd3786"
            ],
            [
             0.5555555555555556,
             "#d8576b"
            ],
            [
             0.6666666666666666,
             "#ed7953"
            ],
            [
             0.7777777777777778,
             "#fb9f3a"
            ],
            [
             0.8888888888888888,
             "#fdca26"
            ],
            [
             1,
             "#f0f921"
            ]
           ],
           "sequentialminus": [
            [
             0,
             "#0d0887"
            ],
            [
             0.1111111111111111,
             "#46039f"
            ],
            [
             0.2222222222222222,
             "#7201a8"
            ],
            [
             0.3333333333333333,
             "#9c179e"
            ],
            [
             0.4444444444444444,
             "#bd3786"
            ],
            [
             0.5555555555555556,
             "#d8576b"
            ],
            [
             0.6666666666666666,
             "#ed7953"
            ],
            [
             0.7777777777777778,
             "#fb9f3a"
            ],
            [
             0.8888888888888888,
             "#fdca26"
            ],
            [
             1,
             "#f0f921"
            ]
           ]
          },
          "colorway": [
           "#636efa",
           "#EF553B",
           "#00cc96",
           "#ab63fa",
           "#FFA15A",
           "#19d3f3",
           "#FF6692",
           "#B6E880",
           "#FF97FF",
           "#FECB52"
          ],
          "font": {
           "color": "#2a3f5f"
          },
          "geo": {
           "bgcolor": "white",
           "lakecolor": "white",
           "landcolor": "#E5ECF6",
           "showlakes": true,
           "showland": true,
           "subunitcolor": "white"
          },
          "hoverlabel": {
           "align": "left"
          },
          "hovermode": "closest",
          "mapbox": {
           "style": "light"
          },
          "paper_bgcolor": "white",
          "plot_bgcolor": "#E5ECF6",
          "polar": {
           "angularaxis": {
            "gridcolor": "white",
            "linecolor": "white",
            "ticks": ""
           },
           "bgcolor": "#E5ECF6",
           "radialaxis": {
            "gridcolor": "white",
            "linecolor": "white",
            "ticks": ""
           }
          },
          "scene": {
           "xaxis": {
            "backgroundcolor": "#E5ECF6",
            "gridcolor": "white",
            "gridwidth": 2,
            "linecolor": "white",
            "showbackground": true,
            "ticks": "",
            "zerolinecolor": "white"
           },
           "yaxis": {
            "backgroundcolor": "#E5ECF6",
            "gridcolor": "white",
            "gridwidth": 2,
            "linecolor": "white",
            "showbackground": true,
            "ticks": "",
            "zerolinecolor": "white"
           },
           "zaxis": {
            "backgroundcolor": "#E5ECF6",
            "gridcolor": "white",
            "gridwidth": 2,
            "linecolor": "white",
            "showbackground": true,
            "ticks": "",
            "zerolinecolor": "white"
           }
          },
          "shapedefaults": {
           "line": {
            "color": "#2a3f5f"
           }
          },
          "ternary": {
           "aaxis": {
            "gridcolor": "white",
            "linecolor": "white",
            "ticks": ""
           },
           "baxis": {
            "gridcolor": "white",
            "linecolor": "white",
            "ticks": ""
           },
           "bgcolor": "#E5ECF6",
           "caxis": {
            "gridcolor": "white",
            "linecolor": "white",
            "ticks": ""
           }
          },
          "title": {
           "x": 0.05
          },
          "xaxis": {
           "automargin": true,
           "gridcolor": "white",
           "linecolor": "white",
           "ticks": "",
           "title": {
            "standoff": 15
           },
           "zerolinecolor": "white",
           "zerolinewidth": 2
          },
          "yaxis": {
           "automargin": true,
           "gridcolor": "white",
           "linecolor": "white",
           "ticks": "",
           "title": {
            "standoff": 15
           },
           "zerolinecolor": "white",
           "zerolinewidth": 2
          }
         }
        },
        "title": {
         "text": "Interactive 3D RNA Structure - 1SCL"
        }
       }
      },
      "text/html": [
       "<div>                            <div id=\"17563b10-5952-4db8-90a4-d0776813b263\" class=\"plotly-graph-div\" style=\"height:525px; width:100%;\"></div>            <script type=\"text/javascript\">                require([\"plotly\"], function(Plotly) {                    window.PLOTLYENV=window.PLOTLYENV || {};                                    if (document.getElementById(\"17563b10-5952-4db8-90a4-d0776813b263\")) {                    Plotly.newPlot(                        \"17563b10-5952-4db8-90a4-d0776813b263\",                        [{\"marker\":{\"color\":\"blue\",\"opacity\":0.8,\"size\":6},\"mode\":\"markers\",\"name\":\"C1' Carbon Atoms\",\"text\":[\"G\",\"G\",\"G\",\"U\",\"G\",\"C\",\"U\",\"C\",\"A\",\"G\",\"U\",\"A\",\"C\",\"G\",\"A\",\"G\",\"A\",\"G\",\"G\",\"A\",\"A\",\"C\",\"C\",\"G\",\"C\",\"A\",\"C\",\"C\",\"C\"],\"x\":[13.760000228881836,9.3100004196167,5.52899980545044,2.677999973297119,1.8270000219345093,2.039999961853028,1.1069999933242798,2.990999937057495,0.8960000276565552,0.2280000001192093,4.328999996185303,5.164999961853027,2.609999895095825,1.1740000247955322,1.5800000429153442,-1.5750000476837158,-6.051000118255615,-5.553999900817871,-3.1070001125335693,-1.409999966621399,1.866000056266785,3.6549999713897705,5.314000129699707,7.931000232696533,8.734999656677246,9.107999801635742,8.897000312805176,9.67300033569336,12.640999794006348],\"y\":[-25.974000930786133,-29.63800048828125,-27.8129997253418,-24.900999069213867,-20.13599967956543,-14.907999992370604,-11.512999534606934,-6.406000137329102,-1.1929999589920044,2.6459999084472656,2.7179999351501465,4.791999816894531,9.494999885559082,13.82900047302246,20.114999771118164,16.92799949645996,14.76200008392334,10.414999961853027,6.40500020980835,3.3350000381469727,-0.7160000205039978,-4.443999767303467,-7.656000137329102,-9.527999877929688,-12.64799976348877,-17.29599952697754,-22.606000900268555,-28.33799934387207,-30.90699958801269],\"z\":[0.1019999980926513,2.6689999103546143,5.877999782562256,9.79300022125244,11.79300022125244,11.770999908447266,7.517000198364258,4.7829999923706055,7.607999801635742,9.128000259399414,4.803999900817871,-0.9139999747276306,-2.308000087738037,0.2010000050067901,3.759999990463257,5.896999835968018,5.223999977111816,4.309000015258789,2.119999885559082,-2.6549999713897705,-4.333000183105469,-2.484999895095825,1.1299999952316284,5.781000137329102,10.024999618530272,13.020999908447266,14.30799961090088,13.291999816894531,9.645000457763672],\"type\":\"scatter3d\"}],                        {\"template\":{\"data\":{\"histogram2dcontour\":[{\"type\":\"histogram2dcontour\",\"colorbar\":{\"outlinewidth\":0,\"ticks\":\"\"},\"colorscale\":[[0.0,\"#0d0887\"],[0.1111111111111111,\"#46039f\"],[0.2222222222222222,\"#7201a8\"],[0.3333333333333333,\"#9c179e\"],[0.4444444444444444,\"#bd3786\"],[0.5555555555555556,\"#d8576b\"],[0.6666666666666666,\"#ed7953\"],[0.7777777777777778,\"#fb9f3a\"],[0.8888888888888888,\"#fdca26\"],[1.0,\"#f0f921\"]]}],\"choropleth\":[{\"type\":\"choropleth\",\"colorbar\":{\"outlinewidth\":0,\"ticks\":\"\"}}],\"histogram2d\":[{\"type\":\"histogram2d\",\"colorbar\":{\"outlinewidth\":0,\"ticks\":\"\"},\"colorscale\":[[0.0,\"#0d0887\"],[0.1111111111111111,\"#46039f\"],[0.2222222222222222,\"#7201a8\"],[0.3333333333333333,\"#9c179e\"],[0.4444444444444444,\"#bd3786\"],[0.5555555555555556,\"#d8576b\"],[0.6666666666666666,\"#ed7953\"],[0.7777777777777778,\"#fb9f3a\"],[0.8888888888888888,\"#fdca26\"],[1.0,\"#f0f921\"]]}],\"heatmap\":[{\"type\":\"heatmap\",\"colorbar\":{\"outlinewidth\":0,\"ticks\":\"\"},\"colorscale\":[[0.0,\"#0d0887\"],[0.1111111111111111,\"#46039f\"],[0.2222222222222222,\"#7201a8\"],[0.3333333333333333,\"#9c179e\"],[0.4444444444444444,\"#bd3786\"],[0.5555555555555556,\"#d8576b\"],[0.6666666666666666,\"#ed7953\"],[0.7777777777777778,\"#fb9f3a\"],[0.8888888888888888,\"#fdca26\"],[1.0,\"#f0f921\"]]}],\"heatmapgl\":[{\"type\":\"heatmapgl\",\"colorbar\":{\"outlinewidth\":0,\"ticks\":\"\"},\"colorscale\":[[0.0,\"#0d0887\"],[0.1111111111111111,\"#46039f\"],[0.2222222222222222,\"#7201a8\"],[0.3333333333333333,\"#9c179e\"],[0.4444444444444444,\"#bd3786\"],[0.5555555555555556,\"#d8576b\"],[0.6666666666666666,\"#ed7953\"],[0.7777777777777778,\"#fb9f3a\"],[0.8888888888888888,\"#fdca26\"],[1.0,\"#f0f921\"]]}],\"contourcarpet\":[{\"type\":\"contourcarpet\",\"colorbar\":{\"outlinewidth\":0,\"ticks\":\"\"}}],\"contour\":[{\"type\":\"contour\",\"colorbar\":{\"outlinewidth\":0,\"ticks\":\"\"},\"colorscale\":[[0.0,\"#0d0887\"],[0.1111111111111111,\"#46039f\"],[0.2222222222222222,\"#7201a8\"],[0.3333333333333333,\"#9c179e\"],[0.4444444444444444,\"#bd3786\"],[0.5555555555555556,\"#d8576b\"],[0.6666666666666666,\"#ed7953\"],[0.7777777777777778,\"#fb9f3a\"],[0.8888888888888888,\"#fdca26\"],[1.0,\"#f0f921\"]]}],\"surface\":[{\"type\":\"surface\",\"colorbar\":{\"outlinewidth\":0,\"ticks\":\"\"},\"colorscale\":[[0.0,\"#0d0887\"],[0.1111111111111111,\"#46039f\"],[0.2222222222222222,\"#7201a8\"],[0.3333333333333333,\"#9c179e\"],[0.4444444444444444,\"#bd3786\"],[0.5555555555555556,\"#d8576b\"],[0.6666666666666666,\"#ed7953\"],[0.7777777777777778,\"#fb9f3a\"],[0.8888888888888888,\"#fdca26\"],[1.0,\"#f0f921\"]]}],\"mesh3d\":[{\"type\":\"mesh3d\",\"colorbar\":{\"outlinewidth\":0,\"ticks\":\"\"}}],\"scatter\":[{\"fillpattern\":{\"fillmode\":\"overlay\",\"size\":10,\"solidity\":0.2},\"type\":\"scatter\"}],\"parcoords\":[{\"type\":\"parcoords\",\"line\":{\"colorbar\":{\"outlinewidth\":0,\"ticks\":\"\"}}}],\"scatterpolargl\":[{\"type\":\"scatterpolargl\",\"marker\":{\"colorbar\":{\"outlinewidth\":0,\"ticks\":\"\"}}}],\"bar\":[{\"error_x\":{\"color\":\"#2a3f5f\"},\"error_y\":{\"color\":\"#2a3f5f\"},\"marker\":{\"line\":{\"color\":\"#E5ECF6\",\"width\":0.5},\"pattern\":{\"fillmode\":\"overlay\",\"size\":10,\"solidity\":0.2}},\"type\":\"bar\"}],\"scattergeo\":[{\"type\":\"scattergeo\",\"marker\":{\"colorbar\":{\"outlinewidth\":0,\"ticks\":\"\"}}}],\"scatterpolar\":[{\"type\":\"scatterpolar\",\"marker\":{\"colorbar\":{\"outlinewidth\":0,\"ticks\":\"\"}}}],\"histogram\":[{\"marker\":{\"pattern\":{\"fillmode\":\"overlay\",\"size\":10,\"solidity\":0.2}},\"type\":\"histogram\"}],\"scattergl\":[{\"type\":\"scattergl\",\"marker\":{\"colorbar\":{\"outlinewidth\":0,\"ticks\":\"\"}}}],\"scatter3d\":[{\"type\":\"scatter3d\",\"line\":{\"colorbar\":{\"outlinewidth\":0,\"ticks\":\"\"}},\"marker\":{\"colorbar\":{\"outlinewidth\":0,\"ticks\":\"\"}}}],\"scattermapbox\":[{\"type\":\"scattermapbox\",\"marker\":{\"colorbar\":{\"outlinewidth\":0,\"ticks\":\"\"}}}],\"scatterternary\":[{\"type\":\"scatterternary\",\"marker\":{\"colorbar\":{\"outlinewidth\":0,\"ticks\":\"\"}}}],\"scattercarpet\":[{\"type\":\"scattercarpet\",\"marker\":{\"colorbar\":{\"outlinewidth\":0,\"ticks\":\"\"}}}],\"carpet\":[{\"aaxis\":{\"endlinecolor\":\"#2a3f5f\",\"gridcolor\":\"white\",\"linecolor\":\"white\",\"minorgridcolor\":\"white\",\"startlinecolor\":\"#2a3f5f\"},\"baxis\":{\"endlinecolor\":\"#2a3f5f\",\"gridcolor\":\"white\",\"linecolor\":\"white\",\"minorgridcolor\":\"white\",\"startlinecolor\":\"#2a3f5f\"},\"type\":\"carpet\"}],\"table\":[{\"cells\":{\"fill\":{\"color\":\"#EBF0F8\"},\"line\":{\"color\":\"white\"}},\"header\":{\"fill\":{\"color\":\"#C8D4E3\"},\"line\":{\"color\":\"white\"}},\"type\":\"table\"}],\"barpolar\":[{\"marker\":{\"line\":{\"color\":\"#E5ECF6\",\"width\":0.5},\"pattern\":{\"fillmode\":\"overlay\",\"size\":10,\"solidity\":0.2}},\"type\":\"barpolar\"}],\"pie\":[{\"automargin\":true,\"type\":\"pie\"}]},\"layout\":{\"autotypenumbers\":\"strict\",\"colorway\":[\"#636efa\",\"#EF553B\",\"#00cc96\",\"#ab63fa\",\"#FFA15A\",\"#19d3f3\",\"#FF6692\",\"#B6E880\",\"#FF97FF\",\"#FECB52\"],\"font\":{\"color\":\"#2a3f5f\"},\"hovermode\":\"closest\",\"hoverlabel\":{\"align\":\"left\"},\"paper_bgcolor\":\"white\",\"plot_bgcolor\":\"#E5ECF6\",\"polar\":{\"bgcolor\":\"#E5ECF6\",\"angularaxis\":{\"gridcolor\":\"white\",\"linecolor\":\"white\",\"ticks\":\"\"},\"radialaxis\":{\"gridcolor\":\"white\",\"linecolor\":\"white\",\"ticks\":\"\"}},\"ternary\":{\"bgcolor\":\"#E5ECF6\",\"aaxis\":{\"gridcolor\":\"white\",\"linecolor\":\"white\",\"ticks\":\"\"},\"baxis\":{\"gridcolor\":\"white\",\"linecolor\":\"white\",\"ticks\":\"\"},\"caxis\":{\"gridcolor\":\"white\",\"linecolor\":\"white\",\"ticks\":\"\"}},\"coloraxis\":{\"colorbar\":{\"outlinewidth\":0,\"ticks\":\"\"}},\"colorscale\":{\"sequential\":[[0.0,\"#0d0887\"],[0.1111111111111111,\"#46039f\"],[0.2222222222222222,\"#7201a8\"],[0.3333333333333333,\"#9c179e\"],[0.4444444444444444,\"#bd3786\"],[0.5555555555555556,\"#d8576b\"],[0.6666666666666666,\"#ed7953\"],[0.7777777777777778,\"#fb9f3a\"],[0.8888888888888888,\"#fdca26\"],[1.0,\"#f0f921\"]],\"sequentialminus\":[[0.0,\"#0d0887\"],[0.1111111111111111,\"#46039f\"],[0.2222222222222222,\"#7201a8\"],[0.3333333333333333,\"#9c179e\"],[0.4444444444444444,\"#bd3786\"],[0.5555555555555556,\"#d8576b\"],[0.6666666666666666,\"#ed7953\"],[0.7777777777777778,\"#fb9f3a\"],[0.8888888888888888,\"#fdca26\"],[1.0,\"#f0f921\"]],\"diverging\":[[0,\"#8e0152\"],[0.1,\"#c51b7d\"],[0.2,\"#de77ae\"],[0.3,\"#f1b6da\"],[0.4,\"#fde0ef\"],[0.5,\"#f7f7f7\"],[0.6,\"#e6f5d0\"],[0.7,\"#b8e186\"],[0.8,\"#7fbc41\"],[0.9,\"#4d9221\"],[1,\"#276419\"]]},\"xaxis\":{\"gridcolor\":\"white\",\"linecolor\":\"white\",\"ticks\":\"\",\"title\":{\"standoff\":15},\"zerolinecolor\":\"white\",\"automargin\":true,\"zerolinewidth\":2},\"yaxis\":{\"gridcolor\":\"white\",\"linecolor\":\"white\",\"ticks\":\"\",\"title\":{\"standoff\":15},\"zerolinecolor\":\"white\",\"automargin\":true,\"zerolinewidth\":2},\"scene\":{\"xaxis\":{\"backgroundcolor\":\"#E5ECF6\",\"gridcolor\":\"white\",\"linecolor\":\"white\",\"showbackground\":true,\"ticks\":\"\",\"zerolinecolor\":\"white\",\"gridwidth\":2},\"yaxis\":{\"backgroundcolor\":\"#E5ECF6\",\"gridcolor\":\"white\",\"linecolor\":\"white\",\"showbackground\":true,\"ticks\":\"\",\"zerolinecolor\":\"white\",\"gridwidth\":2},\"zaxis\":{\"backgroundcolor\":\"#E5ECF6\",\"gridcolor\":\"white\",\"linecolor\":\"white\",\"showbackground\":true,\"ticks\":\"\",\"zerolinecolor\":\"white\",\"gridwidth\":2}},\"shapedefaults\":{\"line\":{\"color\":\"#2a3f5f\"}},\"annotationdefaults\":{\"arrowcolor\":\"#2a3f5f\",\"arrowhead\":0,\"arrowwidth\":1},\"geo\":{\"bgcolor\":\"white\",\"landcolor\":\"#E5ECF6\",\"subunitcolor\":\"white\",\"showland\":true,\"showlakes\":true,\"lakecolor\":\"white\"},\"title\":{\"x\":0.05},\"mapbox\":{\"style\":\"light\"}}},\"title\":{\"text\":\"Interactive 3D RNA Structure - 1SCL\"},\"scene\":{\"xaxis\":{\"title\":{\"text\":\"X Coordinate\"}},\"yaxis\":{\"title\":{\"text\":\"Y Coordinate\"}},\"zaxis\":{\"title\":{\"text\":\"Z Coordinate\"}}}},                        {\"responsive\": true}                    ).then(function(){\n",
       "                            \n",
       "var gd = document.getElementById('17563b10-5952-4db8-90a4-d0776813b263');\n",
       "var x = new MutationObserver(function (mutations, observer) {{\n",
       "        var display = window.getComputedStyle(gd).display;\n",
       "        if (!display || display === 'none') {{\n",
       "            console.log([gd, 'removed!']);\n",
       "            Plotly.purge(gd);\n",
       "            observer.disconnect();\n",
       "        }}\n",
       "}});\n",
       "\n",
       "// Listen for the removal of the full notebook cells\n",
       "var notebookContainer = gd.closest('#notebook-container');\n",
       "if (notebookContainer) {{\n",
       "    x.observe(notebookContainer, {childList: true});\n",
       "}}\n",
       "\n",
       "// Listen for the clearing of the current output cell\n",
       "var outputEl = gd.closest('.output');\n",
       "if (outputEl) {{\n",
       "    x.observe(outputEl, {childList: true});\n",
       "}}\n",
       "\n",
       "                        })                };                });            </script>        </div>"
      ]
     },
     "metadata": {},
     "output_type": "display_data"
    }
   ],
   "source": [
    "df_1SCL = df_train_labels[df_train_labels[\"ID\"].str.startswith(\"1SCL_A_\")].iloc[:29]\n",
    "\n",
    "fig = go.Figure()\n",
    "\n",
    "fig.add_trace(go.Scatter3d(\n",
    "    x=df_1SCL[\"x_1\"], \n",
    "    y=df_1SCL[\"y_1\"], \n",
    "    z=df_1SCL[\"z_1\"],\n",
    "    mode='markers',\n",
    "    marker=dict(size=6, color='blue', opacity=0.8),\n",
    "    text=df_1SCL[\"resname\"],  # show by hovering over point the niklotide type\n",
    "    name=\"C1' Carbon Atoms\"\n",
    "))\n",
    "\n",
    "fig.update_layout(\n",
    "    title=\"Interactive 3D RNA Structure - 1SCL\",\n",
    "    scene=dict(\n",
    "        xaxis_title=\"X Coordinate\",\n",
    "        yaxis_title=\"Y Coordinate\",\n",
    "        zaxis_title=\"Z Coordinate\"\n",
    "    )\n",
    ")\n",
    "fig.show()"
   ]
  },
  {
   "cell_type": "code",
   "execution_count": 77,
   "metadata": {},
   "outputs": [],
   "source": [
    "def data_overview(data, target):\n",
    "    # Overview\n",
    "    display(Markdown(\"## Data Overview\"))\n",
    "    \n",
    "    display(Markdown(\"### General Information\"))\n",
    "    display(Markdown(f\"- Number of rows and columns: {data.shape[0]} x {data.shape[1]}\"))\n",
    "    display(Markdown(\"- Column names:\"))\n",
    "    display(list(data.columns))\n",
    "\n",
    "    display(Markdown(\"### Data Types & Missing Values\"))\n",
    "    missing = data.isnull().sum()\n",
    "    dtypes = pd.DataFrame(data.dtypes, columns=[\"Data Type\"])\n",
    "    missing_df = pd.DataFrame(missing, columns=[\"Missing Values\"])\n",
    "    overview_df = dtypes.join(missing_df)\n",
    "    display(overview_df.style.background_gradient(cmap=\"coolwarm\"))\n",
    "\n",
    "    display(Markdown(\"### Classic head of Data\"))\n",
    "    display(data.head().style.set_properties(**{\"background-color\": \"#f5f5f5\"}))\n",
    "\n",
    "    display(Markdown(\"### Statistical Summary (describe)\"))\n",
    "    display(data.describe().T.style.background_gradient(cmap=\"viridis\"))\n",
    "\n",
    "    # Target variable analysis\n",
    "    if target is not None:\n",
    "        display(Markdown(f\"## Target Variable: `{target}`\"))\n",
    "        sns.set_style(\"whitegrid\")  \n",
    "        sns.set_palette(\"viridis\")   \n",
    "\n",
    "        fig, ax = plt.subplots(1, 2, figsize=(14, 5))\n",
    "\n",
    "        #   Absolute frequency barplot\n",
    "        sns.barplot(x=data[target].value_counts().index, \n",
    "                y=data[target].value_counts(), \n",
    "                ax=ax[0])  \n",
    "\n",
    "        ax[0].set_title(\"Absolute Frequency\", fontsize=12, fontweight=\"bold\")\n",
    "        ax[0].set_ylabel(\"Count\")\n",
    "        ax[0].set_xlabel(target)\n",
    "        ax[0].grid(axis=\"y\", linestyle=\"--\", alpha=0.5)  \n",
    "\n",
    "        # Percentage distribution barplot\n",
    "        sns.barplot(x=data[target].value_counts().index, \n",
    "                    y=data[target].value_counts(normalize=True), \n",
    "                    ax=ax[1])  \n",
    "\n",
    "        ax[1].set_title(\"Percentage Distribution\", fontsize=12, fontweight=\"bold\")\n",
    "        ax[1].set_ylabel(\"Percentage\")\n",
    "        ax[1].set_xlabel(target)\n",
    "        ax[1].grid(axis=\"y\", linestyle=\"--\", alpha=0.5)\n",
    "\n",
    "    \n",
    "\n",
    "        for spine in [\"top\", \"right\"]:\n",
    "            ax[0].spines[spine].set_visible(False)\n",
    "            ax[1].spines[spine].set_visible(False)\n",
    "\n",
    "    plt.tight_layout()\n",
    "    plt.show()"
   ]
  },
  {
   "cell_type": "markdown",
   "metadata": {},
   "source": [
    "# Quick PreProcessing about some features"
   ]
  },
  {
   "cell_type": "markdown",
   "metadata": {},
   "source": [
    "# Optional Point: Concat the data"
   ]
  },
  {
   "cell_type": "markdown",
   "metadata": {},
   "source": [
    "# Feature Analyse"
   ]
  },
  {
   "cell_type": "code",
   "execution_count": 78,
   "metadata": {},
   "outputs": [],
   "source": [
    "def visualize_feature_attributes(df, target=None):\n",
    "    \"\"\" Visualizes numeric and categorical features \"\"\"\n",
    "\n",
    "    # Get Numeric & Categorical Features\n",
    "    numeric_features, categorical_features =get_categorical_numerical_features(df)\n",
    "\n",
    "    # Numeric Features\n",
    "    if numeric_features:\n",
    "        display(Markdown(\"## Numeric Feature Attributes\"))\n",
    "        for col in numeric_features:\n",
    "            if col != target:\n",
    "                plot_numeric_feature(df, col, target)\n",
    "    else:\n",
    "        print(\"No numeric features found.\")\n",
    "\n",
    "    # Categorical Features\n",
    "    if categorical_features:\n",
    "        display(Markdown(\"## Categorical Feature Attributes\"))\n",
    "        for col in categorical_features:\n",
    "            if col != target:\n",
    "                if df[col].nunique() > 10:\n",
    "                    df = reduce_categories(df, col, top_n=15)\n",
    "                plot_categorical_feature(df, col, target)\n",
    "    else:\n",
    "        print(\"No categorical features found.\")\n",
    "\n",
    "\n",
    "def plot_numeric_feature(df, col, target):\n",
    "    \"\"\" Plots Histogram, Boxplot, and Violinplot for a numeric feature \"\"\"\n",
    "    fig, axes = plt.subplots(1, 3, figsize=(20, 5))\n",
    "\n",
    "    sns.histplot(df[col], ax=axes[0], kde=True)\n",
    "    axes[0].set_title(f\"Distribution of {col}\", fontweight=\"bold\")\n",
    "\n",
    "    sns.boxplot(x=df[col], ax=axes[1])\n",
    "    axes[1].set_title(f\"Boxplot of {col}\", fontweight=\"bold\")\n",
    "\n",
    "    if target and target in df.columns and df[target].nunique() == 2:\n",
    "        sns.violinplot(x=df[target], y=df[col], ax=axes[2], split=True)\n",
    "    elif target and target in df.columns:\n",
    "        sns.violinplot(x=df[target], y=df[col], ax=axes[2], split=False)\n",
    "    else:\n",
    "        sns.violinplot(y=df[col], ax=axes[2])\n",
    "\n",
    "    axes[2].set_title(f\"Violinplot of {col} by {target}\", fontweight=\"bold\")\n",
    "\n",
    "    plt.tight_layout()\n",
    "    plt.show()\n",
    "\n",
    "\n",
    "def plot_categorical_feature(df, col, target):\n",
    "    \"\"\" Plots Countplot, Hue-Countplot, and Barplot (if target is numeric) for a categorical feature \"\"\"\n",
    "    fig, axes = plt.subplots(1, 3, figsize=(20, 5))\n",
    "\n",
    "    sns.countplot(x=df[col], ax=axes[0])\n",
    "    axes[0].set_title(f\"Countplot of {col}\", fontweight=\"bold\")\n",
    "    axes[0].tick_params(axis='x', rotation=45)\n",
    "\n",
    "    if target in df.columns:\n",
    "        sns.countplot(x=df[col], hue=df[target], ax=axes[1])\n",
    "        axes[1].set_title(f\"Countplot of {col} by {target}\", fontweight=\"bold\")\n",
    "        axes[1].tick_params(axis='x', rotation=45)\n",
    "\n",
    "    if target in df.columns and df[target].dtype in [np.float64, np.int64]:\n",
    "        sns.barplot(x=df[col], y=df[target], ax=axes[2], estimator=np.mean, errorbar='sd')\n",
    "        axes[2].set_title(f\"Mean {target} by {col}\", fontweight=\"bold\")\n",
    "    else:\n",
    "        axes[2].remove()  \n",
    "\n",
    "    plt.tight_layout()\n",
    "    plt.show()\n",
    "    \n",
    "\n",
    "def reduce_categories(df, col, top_n):\n",
    "    \"\"\" Shows only the categories with highes numbers, seldoms are shown with \"others\" \"\"\"\n",
    "    top_categories = df[col].value_counts().nlargest(top_n).index\n",
    "    df[col] = df[col].apply(lambda x: x if x in top_categories else 'Other')\n",
    "    return df\n",
    "\n",
    "def get_categorical_numerical_features(df):\n",
    "    # Get Numeric & Categorical Features\n",
    "    numeric_features = df.select_dtypes(include=[np.number]).columns.tolist()\n",
    "    categorical_features = df.select_dtypes(include=['object', 'category']).columns.tolist()\n",
    "    return numeric_features, categorical_features\n",
    "\n",
    "#visualize_feature_attributes(train, target=target_feature)"
   ]
  },
  {
   "cell_type": "markdown",
   "metadata": {},
   "source": [
    "# Correlation Matrix (Numerical values)"
   ]
  },
  {
   "cell_type": "code",
   "execution_count": 79,
   "metadata": {},
   "outputs": [],
   "source": [
    "# Get Numeric & Categorical Features\n",
    "# numeric_features, categorical_features = get_categorical_numerical_features(train)\n",
    "# sns.heatmap(train[numeric_features].corr(), annot=True, cmap='coolwarm')"
   ]
  },
  {
   "cell_type": "markdown",
   "metadata": {},
   "source": [
    "# Analyse categorical features"
   ]
  },
  {
   "cell_type": "markdown",
   "metadata": {},
   "source": [
    "# Correlation Matrix Categorical Features"
   ]
  },
  {
   "cell_type": "markdown",
   "metadata": {},
   "source": [
    "# Merge categorical features\n",
    "I will wait before i will drop features"
   ]
  },
  {
   "cell_type": "markdown",
   "metadata": {},
   "source": [
    "# Analyze\n",
    "## Numerical Features\n",
    "## Categorical Features\n"
   ]
  },
  {
   "cell_type": "markdown",
   "metadata": {},
   "source": [
    "# Save CSV Files as Kaggle Datasets"
   ]
  },
  {
   "cell_type": "code",
   "execution_count": 80,
   "metadata": {},
   "outputs": [],
   "source": [
    "# if KAGGLE_ENV:\n",
    "#     path = '/kaggle/input/' + competition_name + '-train-concat/'\n",
    "#     if not os.path.exists(path):\n",
    "#         os.makedirs(path)\n",
    "#     train.to_csv('/kaggle/input/' + competition_name + '-train-concat/' + competition_name + '-train-concat.csv', index=False)\n",
    "# else:\n",
    "#     path = '../kaggle/input/' + competition_name + '-train-concat/'\n",
    "#     if not os.path.exists(path):\n",
    "#         os.makedirs(path)\n",
    "#     train.to_csv('../kaggle/input/' + competition_name + '-train-concat/' + competition_name + '-train-concat.csv', index=False)"
   ]
  },
  {
   "cell_type": "code",
   "execution_count": 81,
   "metadata": {},
   "outputs": [],
   "source": [
    "# if KAGGLE_ENV:\n",
    "#     path = '/kaggle/input/' + competition_name + '-test-concat/'\n",
    "#     if not os.path.exists(path):\n",
    "#         os.makedirs(path)\n",
    "#     test.to_csv('/kaggle/input/' + competition_name + '-test-concat/' + competition_name + '-test-concat.csv', index=False)\n",
    "# else:\n",
    "#     path = '../kaggle/input/' + competition_name + '-test-concat/'\n",
    "#     if not os.path.exists(path):\n",
    "#         os.makedirs(path)\n",
    "#     test.to_csv('../kaggle/input/' + competition_name + '-test-concat/' + competition_name + '-test-concat.csv', index=False)"
   ]
  }
 ],
 "metadata": {
  "kaggle": {
   "accelerator": "none",
   "dataSources": [
    {
     "databundleVersionId": 10008389,
     "sourceId": 84895,
     "sourceType": "competition"
    }
   ],
   "isGpuEnabled": false,
   "isInternetEnabled": true,
   "language": "python",
   "sourceType": "notebook"
  },
  "kernelspec": {
   "display_name": "base",
   "language": "python",
   "name": "python3"
  },
  "language_info": {
   "codemirror_mode": {
    "name": "ipython",
    "version": 3
   },
   "file_extension": ".py",
   "mimetype": "text/x-python",
   "name": "python",
   "nbconvert_exporter": "python",
   "pygments_lexer": "ipython3",
   "version": "3.11.5"
  }
 },
 "nbformat": 4,
 "nbformat_minor": 4
}
