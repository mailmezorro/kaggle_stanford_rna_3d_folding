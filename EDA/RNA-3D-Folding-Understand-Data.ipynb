{
 "cells": [
  {
   "cell_type": "markdown",
   "metadata": {},
   "source": [
    "# Introduction\n",
    "Normally, I start with an exploratory data analysis (EDA) script and dive straight into the data. However, this time the topic is more complex, requiring a deeper understanding before analysis is possible. To build a solid foundation, let’s start with the fundamental question:\n",
    "\n",
    "**What is RNA? Why is it important? And why does its 3D structure matter?**\n",
    "\n",
    "---\n",
    "\n",
    "## What is RNA?\n",
    "RNA (Ribonucleic Acid) is a **nucleic acid**, a type of biological macromolecule, similar to DNA but with key differences in structure and function. It plays a crucial role in genetics and cellular biology.\n",
    "\n",
    "### Differences between RNA and DNA\n",
    "| Feature          | DNA                      | RNA                      |\n",
    "|-----------------|--------------------------|--------------------------|\n",
    "| Sugar           | Deoxyribose               | Ribose                   |\n",
    "| Strands         | Double-stranded (mostly, forming a **double helix**)  | Single-stranded (mostly) |\n",
    "| Bases          | A, T, C, G                 | A, **U**, C, G (Uracil replaces Thymine) |\n",
    "| Stability       | More stable               | Less stable (prone to degradation) |\n",
    "| Function        | **Genetic storage, replication** (stores hereditary information in cells) | **Protein synthesis, regulation, catalysis** (actively involved in gene expression) |\n",
    "\n",
    "### **DNA as the Blueprint of Life**\n",
    "DNA is **the genetic material in all known living organisms**. It carries the instructions for the growth, development, functioning, and reproduction of cells. The **double-helix structure** ensures that genetic information is stored safely and can be accurately copied during **cell division** (mitosis and meiosis). Every cell in an organism contains the same DNA, which acts as the \"blueprint\" for making proteins that define cellular function.\n",
    "\n",
    "---\n",
    "\n",
    "## **Types of RNA**\n",
    "RNA comes in different forms, each with distinct functions that work together to **convert genetic information into proteins**. The three main types of RNA directly involved in **protein synthesis** are:\n",
    "\n",
    "### **1. Messenger RNA (mRNA) – The Genetic Courier**\n",
    "- **Function:** Carries genetic instructions from DNA to ribosomes to synthesize proteins. It is a temporary copy of a gene used to direct protein synthesis.\n",
    "- **Example:** **mRNA vaccines** (e.g., Pfizer-BioNTech COVID-19 vaccine) work by introducing a synthetic mRNA sequence that cells use to produce a viral protein, training the immune system to recognize and fight the virus.\n",
    "\n",
    "### **2. Transfer RNA (tRNA) – The Adapter Molecule**\n",
    "- **Function:** Brings amino acids to the ribosome, matching them with the corresponding mRNA codon.\n",
    "- **Structure:** It has a **cloverleaf** shape and an **anticodon region** that pairs with mRNA codons.\n",
    "- **Example:** If mRNA has the codon `AUG` (Methionine), tRNA carries the corresponding amino acid (Methionine) and adds it to the growing protein chain.\n",
    "\n",
    "### **3. Ribosomal RNA (rRNA) – The Protein Factory**\n",
    "- **Function:** Forms the core of ribosomes and catalyzes peptide bond formation between amino acids.\n",
    "- **Highly conserved:** Used in evolutionary studies to compare species.\n",
    "- **Example:** The ribosome consists of both rRNA and proteins, acting as the **assembly site for proteins**.\n",
    "\n",
    "### **4. Small Nuclear RNA (snRNA) – The Gene Editor**\n",
    "- **Function:** Involved in **RNA processing**, especially **splicing**, which removes non-coding sequences (**introns**) from pre-mRNA before it becomes mature mRNA.\n",
    "- **Example:** Helps form the **spliceosome**, a molecular machine that cuts out introns and joins exons together, allowing different proteins to be produced from the same gene.\n",
    "\n",
    "### **5. MicroRNA (miRNA) & Small Interfering RNA (siRNA) – The Gene Silencers**\n",
    "- **Function:** Regulate gene expression by binding to mRNA and preventing translation or promoting degradation.\n",
    "- **Example:** miRNAs are involved in **cancer suppression** by regulating oncogenes (cancer-causing genes). siRNA is used in **gene therapy** to silence disease-causing genes.\n",
    "\n",
    "---\n",
    "\n",
    "## **Why is RNA important?**\n",
    "RNA is fundamental in biology and medicine because it acts as a bridge between genetic information (DNA) and functional molecules (proteins).\n",
    "\n",
    "### **1. Role in Protein Synthesis**\n",
    "RNA is central to the **central dogma of molecular biology**:\n",
    "\n",
    "**DNA → RNA → Protein**\n",
    "\n",
    "- **Transcription:** DNA is transcribed into mRNA in the nucleus.\n",
    "- **Translation:** mRNA is translated into proteins by ribosomes (rRNA + tRNA) in the cytoplasm.\n",
    "- **Example of the process:**\n",
    "  1. DNA: `TAC GGC TAA`\n",
    "  2. mRNA: `AUG CCG AUU`\n",
    "  3. tRNA brings the corresponding amino acids: Methionine - Proline - Isoleucine\n",
    "  4. The ribosome links these amino acids together to form a protein.\n",
    "\n",
    "### **2. Gene Regulation & Cell Function**\n",
    "RNA is not just a passive messenger; it actively regulates gene expression.\n",
    "- **miRNA and siRNA** silence genes by binding to mRNA and blocking translation.\n",
    "- **Long non-coding RNA (lncRNA)** influences chromatin structure and gene expression.\n",
    "- **Riboswitches** change their conformation to regulate gene activity based on environmental conditions.\n",
    "\n",
    "### **3. Importance in Evolution & Medicine**\n",
    "- RNA was likely the **first genetic material** in early life forms (**RNA world hypothesis**).\n",
    "- Many viruses, including **SARS-CoV-2**, use RNA as their genetic material.\n",
    "- **RNA-based drugs** and **RNA vaccines** are revolutionizing medicine.\n",
    "\n",
    "---\n",
    "## **What is 3D RNA folding?**\n",
    "Unlike DNA, RNA does not stay linear. It **folds into complex structures** that determine its function.\n",
    "\n",
    "### **Levels of RNA Structure**\n",
    "1. **Primary Structure**: The sequence of nucleotides (A, U, C, G).\n",
    "2. **Secondary Structure**: Local folding patterns (stems, loops, bulges).\n",
    "3. **Tertiary Structure**: The full **3D shape** stabilized by interactions.\n",
    "\n",
    "### **Key Folding Elements**\n",
    "- **Hairpin loops**: Short double-stranded stems with a loop at the end.\n",
    "- **Pseudoknots**: Complex folds where loops interact with other RNA regions.\n",
    "- **Coaxial stacking**: Stacking of helices for stability.\n",
    "\n",
    "RNA folding is **not random**—it follows **thermodynamic principles** to find the most stable conformation.\n",
    "\n",
    "---\n",
    "\n",
    "## **Why do we need to study 3D RNA folding?**\n",
    "The **3D structure determines RNA function**, affecting its ability to interact with other molecules.\n",
    "\n",
    "### **1. RNA-Protein Interactions**\n",
    "- Ribosomes, CRISPR, and viral replication depend on RNA-protein binding.\n",
    "\n",
    "### **2. Drug Design & Synthetic Biology**\n",
    "- Many drugs target RNA structures (e.g., antibiotics targeting rRNA).\n",
    "- Artificially designed RNA molecules can be used in therapy.\n",
    "\n",
    "---\n",
    "\n",
    "## **How does RNA 3D folding work?**\n",
    "RNA folds due to various **molecular forces** and stabilizing factors.\n",
    "\n",
    "### **1. Key Forces in RNA Folding**\n",
    "- **Hydrogen bonding**: Base pairing (A-U, G-C).\n",
    "- **Stacking interactions**: π-π interactions between bases.\n",
    "- **Metal ion stabilization**: Mg²⁺ ions stabilize tertiary structures.\n",
    "\n",
    "### **2. Experimental Methods to Study RNA Folding**\n",
    "- **X-ray crystallography**: High-resolution but difficult for RNA.\n",
    "- **NMR spectroscopy**: Good for small RNAs.\n",
    "- **Cryo-EM**: Ideal for large RNA complexes like ribosomes.\n",
    "\n",
    "### **3. Computational Approaches**\n",
    "- **RNAfold**: Predicts 2D structures based on thermodynamics.\n",
    "- **Rosetta & AlphaFold RNA**: AI-driven 3D structure prediction.\n",
    "- **Molecular dynamics simulations**: Simulates RNA folding over time.\n",
    "\n",
    "---\n",
    "\n",
    "## **Challenges & Future Directions**\n",
    "Despite progress, RNA structure prediction remains a challenge.\n",
    "\n",
    "### **1. Predicting RNA Structures is Difficult**\n",
    "- Experimental methods are slow and expensive.\n",
    "- Computational models still struggle with large, complex RNAs.\n",
    "\n",
    "### **2. Combining Experimental & Computational Approaches**\n",
    "- Integrating lab data (e.g., Cryo-EM) with AI models improves accuracy.\n",
    "\n",
    "### **3. AI & Deep Learning in RNA Folding**\n",
    "- **AlphaFold RNA** is emerging as a powerful tool.\n",
    "- Machine learning could revolutionize RNA-based drug discovery.\n",
    "\n",
    "---\n",
    "### **Modern Approaches in RNA Structure Prediction**\n",
    "Predicting RNA 3D structures is a complex challenge that combines experimental and computational techniques. In recent years, **AI-driven models** have significantly improved RNA structure prediction.\n",
    "\n",
    "- **RNAfold**: A widely used thermodynamic model that predicts RNA secondary structures based on minimum free energy.\n",
    "- **Rosetta**: A computational tool that models RNA tertiary structures using fragment-based assembly and molecular dynamics.\n",
    "- **AlphaFold RNA**: A deep learning-based approach, inspired by AlphaFold for proteins, aiming to predict RNA 3D structures with high accuracy.\n",
    "\n",
    "By integrating **machine learning, molecular simulations, and experimental data**, these tools are paving the way for more precise RNA structural insights, benefiting **drug discovery, synthetic biology, and gene regulation studies**.\n",
    "\n",
    "### **Example: RNAfold in Drug Discovery**\n",
    "One practical application of RNA structure prediction is in **drug discovery**. Many **antiviral drugs** target RNA structures to disrupt viral replication. For example, **RNAfold** has been used to predict the secondary structures of **SARS-CoV-2 RNA elements**, helping researchers identify potential drug-binding sites. This approach aids in the design of **RNA-targeted therapeutics**, which could be crucial for treating RNA viruses and genetic disorders.\n",
    "\n",
    "\n",
    "\n",
    "## **Final Thoughts**\n",
    "Understanding RNA and its 3D folding is crucial for biology, medicine, and technology. By combining experimental and computational approaches, researchers can unlock new possibilities in **drug design, genetic engineering, and synthetic biology**.\n",
    "\n"
   ]
  },
  {
   "cell_type": "code",
   "execution_count": 21,
   "metadata": {
    "_cell_guid": "b1076dfc-b9ad-4769-8c92-a6c4dae69d19",
    "_uuid": "8f2839f25d086af736a60e9eeb907d3b93b6e0e5",
    "trusted": true
   },
   "outputs": [
    {
     "name": "stdout",
     "output_type": "stream",
     "text": [
      "../kaggle/input/standford-rna-3d-folding-sunny/sample_submission.csv\n",
      "../kaggle/input/standford-rna-3d-folding-sunny/test_sequences.csv\n",
      "../kaggle/input/standford-rna-3d-folding-sunny/train_labels.csv\n",
      "../kaggle/input/standford-rna-3d-folding-sunny/train_sequences.csv\n",
      "../kaggle/input/stanford-rna-3d-folding/validation_labels.csv\n",
      "../kaggle/input/stanford-rna-3d-folding/sample_submission.csv\n",
      "../kaggle/input/stanford-rna-3d-folding/test_sequences.csv\n",
      "../kaggle/input/stanford-rna-3d-folding/validation_sequences.csv\n",
      "../kaggle/input/stanford-rna-3d-folding/train_labels.csv\n",
      "../kaggle/input/stanford-rna-3d-folding/train_sequences.csv\n"
     ]
    }
   ],
   "source": [
    "import numpy as np \n",
    "import pandas as pd \n",
    "import seaborn as sns\n",
    "import matplotlib.pyplot as plt\n",
    "from IPython.display import display, Markdown\n",
    "import scipy.stats as stats\n",
    "# Input data files are available in the read-only \"../input/\" directory\n",
    "# For example, running this (by clicking run or pressing Shift+Enter) will list all files under the input directory\n",
    "\n",
    "import os\n",
    "for dirname, _, filenames in os.walk('/kaggle/input'):\n",
    "    for filename in filenames:\n",
    "        print(os.path.join(dirname, filename))\n",
    "\n",
    "# Decide between local or kaggle cloud storage         \n",
    "KAGGLE_ENV = 'kaggle' in os.listdir('/')\n",
    "data_path = '/kaggle/input' if KAGGLE_ENV else '../kaggle/input'\n",
    "    \n",
    "    \n",
    "for dirname, _, filenames in os.walk(data_path):\n",
    "    for filename in filenames:\n",
    "        print(os.path.join(dirname, filename)) "
   ]
  },
  {
   "cell_type": "markdown",
   "metadata": {},
   "source": [
    "# RNA\n",
    "- What is RNA?\n",
    "- Why do we need it?\n",
    "- Why is there a demand for (like pharma)?\n",
    "- What is this 3d folding about?\n",
    "- How does the 3D folding works?\n",
    "- The RNA sequence is know, but why do we need also the 3d fold?\n",
    "- "
   ]
  },
  {
   "cell_type": "markdown",
   "metadata": {},
   "source": [
    "# Load Data"
   ]
  },
  {
   "cell_type": "code",
   "execution_count": 22,
   "metadata": {},
   "outputs": [
    {
     "name": "stdout",
     "output_type": "stream",
     "text": [
      "df_sample_submission_sunny load, 2515 rows, 18 columns.\n",
      "df_test_sequences_sunny load, 12 rows, 5 columns.\n",
      "df_train_labels_sunny load, 137095 rows, 6 columns.\n",
      "df_train_sequences_sunny load, 844 rows, 5 columns.\n",
      "df_validation_labels load, 2515 rows, 123 columns.\n",
      "df_sample_submission load, 2515 rows, 18 columns.\n",
      "df_test_sequences load, 12 rows, 5 columns.\n",
      "df_validation_sequences load, 12 rows, 5 columns.\n",
      "df_train_labels load, 137095 rows, 6 columns.\n",
      "df_train_sequences load, 844 rows, 5 columns.\n"
     ]
    }
   ],
   "source": [
    "file_paths = {\n",
    "    \"df_sample_submission_sunny\": data_path + \"/standford-rna-3d-folding-sunny/sample_submission.csv\",\n",
    "    \"df_test_sequences_sunny\": data_path + \"/standford-rna-3d-folding-sunny/test_sequences.csv\",\n",
    "    \"df_train_labels_sunny\": data_path + \"/standford-rna-3d-folding-sunny/train_labels.csv\",\n",
    "    \"df_train_sequences_sunny\": data_path + \"/standford-rna-3d-folding-sunny/train_sequences.csv\",\n",
    "    \"df_validation_labels\": data_path + \"/stanford-rna-3d-folding/validation_labels.csv\",\n",
    "    \"df_sample_submission\": data_path + \"/stanford-rna-3d-folding/sample_submission.csv\",\n",
    "    \"df_test_sequences\": data_path + \"/stanford-rna-3d-folding/test_sequences.csv\",\n",
    "    \"df_validation_sequences\": data_path + \"/stanford-rna-3d-folding/validation_sequences.csv\",\n",
    "    \"df_train_labels\": data_path + \"/stanford-rna-3d-folding/train_labels.csv\",\n",
    "    \"df_train_sequences\": data_path + \"/stanford-rna-3d-folding/train_sequences.csv\"\n",
    "}\n",
    "\n",
    "for var_name, path in file_paths.items():\n",
    "    try:\n",
    "        globals()[var_name] = pd.read_csv(path)\n",
    "        print(f\"{var_name} load, {globals()[var_name].shape[0]} rows, {globals()[var_name].shape[1]} columns.\")\n",
    "    except FileNotFoundError:\n",
    "        print(f\"file not found: {path}\")\n",
    "    except Exception as e:\n",
    "        print(f\"error .. {path}: {e}\")\n"
   ]
  },
  {
   "cell_type": "markdown",
   "metadata": {},
   "source": [
    "# EDA"
   ]
  },
  {
   "cell_type": "code",
   "execution_count": 23,
   "metadata": {},
   "outputs": [
    {
     "data": {
      "text/plain": [
       "'df_train_labels_sunny'"
      ]
     },
     "metadata": {},
     "output_type": "display_data"
    },
    {
     "data": {
      "application/vnd.microsoft.datawrangler.viewer.v0+json": {
       "columns": [
        {
         "name": "index",
         "rawType": "int64",
         "type": "integer"
        },
        {
         "name": "ID",
         "rawType": "object",
         "type": "string"
        },
        {
         "name": "resname",
         "rawType": "object",
         "type": "string"
        },
        {
         "name": "resid",
         "rawType": "int64",
         "type": "integer"
        },
        {
         "name": "x_1",
         "rawType": "float64",
         "type": "float"
        },
        {
         "name": "y_1",
         "rawType": "float64",
         "type": "float"
        },
        {
         "name": "z_1",
         "rawType": "float64",
         "type": "float"
        }
       ],
       "conversionMethod": "pd.DataFrame",
       "ref": "28b8bfec-b2f9-4030-82f2-5a6329b61fa3",
       "rows": [
        [
         "0",
         "1SCL_A_1",
         "G",
         "1",
         "13.760000228881836",
         "-25.974000930786133",
         "0.1019999980926513"
        ],
        [
         "1",
         "1SCL_A_2",
         "G",
         "2",
         "9.3100004196167",
         "-29.63800048828125",
         "2.6689999103546143"
        ],
        [
         "2",
         "1SCL_A_3",
         "G",
         "3",
         "5.52899980545044",
         "-27.8129997253418",
         "5.877999782562256"
        ],
        [
         "3",
         "1SCL_A_4",
         "U",
         "4",
         "2.677999973297119",
         "-24.900999069213867",
         "9.79300022125244"
        ],
        [
         "4",
         "1SCL_A_5",
         "G",
         "5",
         "1.8270000219345093",
         "-20.13599967956543",
         "11.79300022125244"
        ],
        [
         "5",
         "1SCL_A_6",
         "C",
         "6",
         "2.039999961853028",
         "-14.907999992370604",
         "11.770999908447266"
        ],
        [
         "6",
         "1SCL_A_7",
         "U",
         "7",
         "1.1069999933242798",
         "-11.512999534606934",
         "7.517000198364258"
        ],
        [
         "7",
         "1SCL_A_8",
         "C",
         "8",
         "2.990999937057495",
         "-6.406000137329102",
         "4.7829999923706055"
        ],
        [
         "8",
         "1SCL_A_9",
         "A",
         "9",
         "0.8960000276565552",
         "-1.1929999589920044",
         "7.607999801635742"
        ],
        [
         "9",
         "1SCL_A_10",
         "G",
         "10",
         "0.2280000001192093",
         "2.6459999084472656",
         "9.128000259399414"
        ],
        [
         "10",
         "1SCL_A_11",
         "U",
         "11",
         "4.328999996185303",
         "2.7179999351501465",
         "4.803999900817871"
        ],
        [
         "11",
         "1SCL_A_12",
         "A",
         "12",
         "5.164999961853027",
         "4.791999816894531",
         "-0.9139999747276306"
        ],
        [
         "12",
         "1SCL_A_13",
         "C",
         "13",
         "2.609999895095825",
         "9.494999885559082",
         "-2.308000087738037"
        ],
        [
         "13",
         "1SCL_A_14",
         "G",
         "14",
         "1.1740000247955322",
         "13.82900047302246",
         "0.2010000050067901"
        ],
        [
         "14",
         "1SCL_A_15",
         "A",
         "15",
         "1.5800000429153442",
         "20.114999771118164",
         "3.759999990463257"
        ],
        [
         "15",
         "1SCL_A_16",
         "G",
         "16",
         "-1.5750000476837158",
         "16.92799949645996",
         "5.896999835968018"
        ],
        [
         "16",
         "1SCL_A_17",
         "A",
         "17",
         "-6.051000118255615",
         "14.76200008392334",
         "5.223999977111816"
        ],
        [
         "17",
         "1SCL_A_18",
         "G",
         "18",
         "-5.553999900817871",
         "10.414999961853027",
         "4.309000015258789"
        ],
        [
         "18",
         "1SCL_A_19",
         "G",
         "19",
         "-3.1070001125335693",
         "6.40500020980835",
         "2.119999885559082"
        ],
        [
         "19",
         "1SCL_A_20",
         "A",
         "20",
         "-1.409999966621399",
         "3.3350000381469727",
         "-2.6549999713897705"
        ],
        [
         "20",
         "1SCL_A_21",
         "A",
         "21",
         "1.866000056266785",
         "-0.7160000205039978",
         "-4.333000183105469"
        ],
        [
         "21",
         "1SCL_A_22",
         "C",
         "22",
         "3.6549999713897705",
         "-4.443999767303467",
         "-2.484999895095825"
        ],
        [
         "22",
         "1SCL_A_23",
         "C",
         "23",
         "5.314000129699707",
         "-7.656000137329102",
         "1.1299999952316284"
        ],
        [
         "23",
         "1SCL_A_24",
         "G",
         "24",
         "7.931000232696533",
         "-9.527999877929688",
         "5.781000137329102"
        ],
        [
         "24",
         "1SCL_A_25",
         "C",
         "25",
         "8.734999656677246",
         "-12.64799976348877",
         "10.024999618530272"
        ],
        [
         "25",
         "1SCL_A_26",
         "A",
         "26",
         "9.107999801635742",
         "-17.29599952697754",
         "13.020999908447266"
        ],
        [
         "26",
         "1SCL_A_27",
         "C",
         "27",
         "8.897000312805176",
         "-22.606000900268555",
         "14.30799961090088"
        ],
        [
         "27",
         "1SCL_A_28",
         "C",
         "28",
         "9.67300033569336",
         "-28.33799934387207",
         "13.291999816894531"
        ],
        [
         "28",
         "1SCL_A_29",
         "C",
         "29",
         "12.640999794006348",
         "-30.90699958801269",
         "9.645000457763672"
        ],
        [
         "29",
         "1RNK_A_1",
         "G",
         "1",
         "4.264999866485596",
         "1.955000042915344",
         "-10.866999626159668"
        ],
        [
         "30",
         "1RNK_A_2",
         "G",
         "2",
         "-0.6150000095367432",
         "2.2309999465942383",
         "-9.279000282287598"
        ],
        [
         "31",
         "1RNK_A_3",
         "C",
         "3",
         "-5.801000118255615",
         "0.0160000007599592",
         "-8.399999618530273"
        ],
        [
         "32",
         "1RNK_A_4",
         "G",
         "4",
         "-8.508999824523926",
         "-3.91100001335144",
         "-6.874000072479248"
        ],
        [
         "33",
         "1RNK_A_5",
         "C",
         "5",
         "-10.376999855041504",
         "-8.09000015258789",
         "-4.3460001945495605"
        ],
        [
         "34",
         "1RNK_A_6",
         "A",
         "6",
         "-15.161999702453612",
         "-4.993000030517578",
         "0.9340000152587892"
        ],
        [
         "35",
         "1RNK_A_7",
         "G",
         "7",
         "-17.687999725341797",
         "-2.065999984741211",
         "0.1889999955892563"
        ],
        [
         "36",
         "1RNK_A_8",
         "U",
         "8",
         "-22.23200035095215",
         "-0.0970000028610229",
         "7.623000144958496"
        ],
        [
         "37",
         "1RNK_A_9",
         "G",
         "9",
         "-18.481000900268555",
         "-2.226999998092652",
         "10.937999725341797"
        ],
        [
         "38",
         "1RNK_A_10",
         "G",
         "10",
         "-16.235000610351562",
         "-6.064000129699707",
         "13.248000144958496"
        ],
        [
         "39",
         "1RNK_A_11",
         "G",
         "11",
         "-14.427000045776367",
         "-11.678999900817873",
         "13.864999771118164"
        ],
        [
         "40",
         "1RNK_A_12",
         "C",
         "12",
         "-10.845999717712402",
         "-15.425000190734863",
         "10.121999740600586"
        ],
        [
         "41",
         "1RNK_A_13",
         "U",
         "13",
         "-6.977000236511231",
         "-14.38700008392334",
         "6.314000129699707"
        ],
        [
         "42",
         "1RNK_A_14",
         "A",
         "14",
         "-2.921999931335449",
         "-14.633999824523926",
         "2.7230000495910645"
        ],
        [
         "43",
         "1RNK_A_15",
         "G",
         "15",
         "-2.282999992370605",
         "-14.40999984741211",
         "-2.013000011444092"
        ],
        [
         "44",
         "1RNK_A_16",
         "C",
         "16",
         "-2.9800000190734863",
         "-12.843999862670898",
         "-6.459000110626221"
        ],
        [
         "45",
         "1RNK_A_17",
         "G",
         "17",
         "-5.116000175476074",
         "-10.354999542236328",
         "-10.562999725341797"
        ],
        [
         "46",
         "1RNK_A_18",
         "C",
         "18",
         "-5.839000225067139",
         "-5.98799991607666",
         "-13.463000297546388"
        ],
        [
         "47",
         "1RNK_A_19",
         "C",
         "19",
         "-5.071000099182129",
         "-1.4140000343322754",
         "-15.100000381469728"
        ],
        [
         "48",
         "1RNK_A_20",
         "A",
         "20",
         "-2.3989999294281006",
         "2.572000026702881",
         "-15.293999671936035"
        ],
        [
         "49",
         "1RNK_A_21",
         "C",
         "21",
         "2.058000087738037",
         "4.933000087738037",
         "-17.006000518798828"
        ]
       ],
       "shape": {
        "columns": 6,
        "rows": 100
       }
      },
      "text/html": [
       "<div>\n",
       "<style scoped>\n",
       "    .dataframe tbody tr th:only-of-type {\n",
       "        vertical-align: middle;\n",
       "    }\n",
       "\n",
       "    .dataframe tbody tr th {\n",
       "        vertical-align: top;\n",
       "    }\n",
       "\n",
       "    .dataframe thead th {\n",
       "        text-align: right;\n",
       "    }\n",
       "</style>\n",
       "<table border=\"1\" class=\"dataframe\">\n",
       "  <thead>\n",
       "    <tr style=\"text-align: right;\">\n",
       "      <th></th>\n",
       "      <th>ID</th>\n",
       "      <th>resname</th>\n",
       "      <th>resid</th>\n",
       "      <th>x_1</th>\n",
       "      <th>y_1</th>\n",
       "      <th>z_1</th>\n",
       "    </tr>\n",
       "  </thead>\n",
       "  <tbody>\n",
       "    <tr>\n",
       "      <th>0</th>\n",
       "      <td>1SCL_A_1</td>\n",
       "      <td>G</td>\n",
       "      <td>1</td>\n",
       "      <td>13.760</td>\n",
       "      <td>-25.974001</td>\n",
       "      <td>0.102</td>\n",
       "    </tr>\n",
       "    <tr>\n",
       "      <th>1</th>\n",
       "      <td>1SCL_A_2</td>\n",
       "      <td>G</td>\n",
       "      <td>2</td>\n",
       "      <td>9.310</td>\n",
       "      <td>-29.638000</td>\n",
       "      <td>2.669</td>\n",
       "    </tr>\n",
       "    <tr>\n",
       "      <th>2</th>\n",
       "      <td>1SCL_A_3</td>\n",
       "      <td>G</td>\n",
       "      <td>3</td>\n",
       "      <td>5.529</td>\n",
       "      <td>-27.813000</td>\n",
       "      <td>5.878</td>\n",
       "    </tr>\n",
       "    <tr>\n",
       "      <th>3</th>\n",
       "      <td>1SCL_A_4</td>\n",
       "      <td>U</td>\n",
       "      <td>4</td>\n",
       "      <td>2.678</td>\n",
       "      <td>-24.900999</td>\n",
       "      <td>9.793</td>\n",
       "    </tr>\n",
       "    <tr>\n",
       "      <th>4</th>\n",
       "      <td>1SCL_A_5</td>\n",
       "      <td>G</td>\n",
       "      <td>5</td>\n",
       "      <td>1.827</td>\n",
       "      <td>-20.136000</td>\n",
       "      <td>11.793</td>\n",
       "    </tr>\n",
       "    <tr>\n",
       "      <th>...</th>\n",
       "      <td>...</td>\n",
       "      <td>...</td>\n",
       "      <td>...</td>\n",
       "      <td>...</td>\n",
       "      <td>...</td>\n",
       "      <td>...</td>\n",
       "    </tr>\n",
       "    <tr>\n",
       "      <th>95</th>\n",
       "      <td>1HLX_A_9</td>\n",
       "      <td>U</td>\n",
       "      <td>9</td>\n",
       "      <td>2.738</td>\n",
       "      <td>12.123000</td>\n",
       "      <td>-2.381</td>\n",
       "    </tr>\n",
       "    <tr>\n",
       "      <th>96</th>\n",
       "      <td>1HLX_A_10</td>\n",
       "      <td>U</td>\n",
       "      <td>10</td>\n",
       "      <td>1.078</td>\n",
       "      <td>17.150000</td>\n",
       "      <td>-5.763</td>\n",
       "    </tr>\n",
       "    <tr>\n",
       "      <th>97</th>\n",
       "      <td>1HLX_A_11</td>\n",
       "      <td>C</td>\n",
       "      <td>11</td>\n",
       "      <td>-1.636</td>\n",
       "      <td>15.000000</td>\n",
       "      <td>0.141</td>\n",
       "    </tr>\n",
       "    <tr>\n",
       "      <th>98</th>\n",
       "      <td>1HLX_A_12</td>\n",
       "      <td>G</td>\n",
       "      <td>12</td>\n",
       "      <td>-5.508</td>\n",
       "      <td>14.255000</td>\n",
       "      <td>-4.483</td>\n",
       "    </tr>\n",
       "    <tr>\n",
       "      <th>99</th>\n",
       "      <td>1HLX_A_13</td>\n",
       "      <td>G</td>\n",
       "      <td>13</td>\n",
       "      <td>-3.214</td>\n",
       "      <td>9.644000</td>\n",
       "      <td>-3.941</td>\n",
       "    </tr>\n",
       "  </tbody>\n",
       "</table>\n",
       "<p>100 rows × 6 columns</p>\n",
       "</div>"
      ],
      "text/plain": [
       "           ID resname  resid     x_1        y_1     z_1\n",
       "0    1SCL_A_1       G      1  13.760 -25.974001   0.102\n",
       "1    1SCL_A_2       G      2   9.310 -29.638000   2.669\n",
       "2    1SCL_A_3       G      3   5.529 -27.813000   5.878\n",
       "3    1SCL_A_4       U      4   2.678 -24.900999   9.793\n",
       "4    1SCL_A_5       G      5   1.827 -20.136000  11.793\n",
       "..        ...     ...    ...     ...        ...     ...\n",
       "95   1HLX_A_9       U      9   2.738  12.123000  -2.381\n",
       "96  1HLX_A_10       U     10   1.078  17.150000  -5.763\n",
       "97  1HLX_A_11       C     11  -1.636  15.000000   0.141\n",
       "98  1HLX_A_12       G     12  -5.508  14.255000  -4.483\n",
       "99  1HLX_A_13       G     13  -3.214   9.644000  -3.941\n",
       "\n",
       "[100 rows x 6 columns]"
      ]
     },
     "metadata": {},
     "output_type": "display_data"
    },
    {
     "data": {
      "text/plain": [
       "'df_train_sequences_sunny'"
      ]
     },
     "metadata": {},
     "output_type": "display_data"
    },
    {
     "data": {
      "application/vnd.microsoft.datawrangler.viewer.v0+json": {
       "columns": [
        {
         "name": "index",
         "rawType": "int64",
         "type": "integer"
        },
        {
         "name": "target_id",
         "rawType": "object",
         "type": "string"
        },
        {
         "name": "sequence",
         "rawType": "object",
         "type": "string"
        },
        {
         "name": "temporal_cutoff",
         "rawType": "object",
         "type": "string"
        },
        {
         "name": "description",
         "rawType": "object",
         "type": "string"
        },
        {
         "name": "all_sequences",
         "rawType": "object",
         "type": "string"
        }
       ],
       "conversionMethod": "pd.DataFrame",
       "ref": "0cb46d18-06c1-4a3d-bf08-536c36e8c23b",
       "rows": [
        [
         "0",
         "1SCL_A",
         "GGGUGCUCAGUACGAGAGGAACCGCACCC",
         "1995-01-26",
         "THE SARCIN-RICIN LOOP, A MODULAR RNA",
         ">1SCL_1|Chain A|RNA SARCIN-RICIN LOOP|Rattus norvegicus (10116)\nGGGUGCUCAGUACGAGAGGAACCGCACCC\n"
        ],
        [
         "1",
         "1RNK_A",
         "GGCGCAGUGGGCUAGCGCCACUCAAAAGGCCCAU",
         "1995-02-27",
         "THE STRUCTURE OF AN RNA PSEUDOKNOT THAT CAUSES EFFICIENT FRAMESHIFTING IN MOUSE MAMMARY TUMOR VIRUS",
         ">1RNK_1|Chain A|RNA PSEUDOKNOT|null\nGGCGCAGUGGGCUAGCGCCACUCAAAAGGCCCAU\n"
        ],
        [
         "2",
         "1RHT_A",
         "GGGACUGACGAUCACGCAGUCUAU",
         "1995-06-03",
         "24-MER RNA HAIRPIN COAT PROTEIN BINDING SITE FOR BACTERIOPHAGE R17 (NMR, MINIMIZED AVERAGE STRUCTURE)",
         ">1RHT_1|Chain A|RNA (5'-R(P*GP*GP*GP*AP*CP*UP*GP*AP*CP*GP*AP*UP*CP*AP*CP*GP*CP*AP*GP*UP*CP*UP*AP*U)-3')|null\nGGGACUGACGAUCACGCAGUCUAU\n"
        ],
        [
         "3",
         "1HLX_A",
         "GGGAUAACUUCGGUUGUCCC",
         "1995-09-15",
         "P1 HELIX NUCLEIC ACIDS (DNA/RNA) RIBONUCLEIC ACID",
         ">1HLX_1|Chain A|RNA (5'-R(*GP*GP*GP*AP*UP*AP*AP*CP*UP*UP*CP*GP*GP*UP*UP*GP*UP*CP*CP*C)-3')|null\nGGGAUAACUUCGGUUGUCCC\n"
        ],
        [
         "4",
         "1HMH_E",
         "GGCGACCCUGAUGAGGCCGAAAGGCCGAAACCGU",
         "1995-12-07",
         "THREE-DIMENSIONAL STRUCTURE OF A HAMMERHEAD RIBOZYME",
         ">1HMH_1|Chains A, C, E|HAMMERHEAD RIBOZYME-RNA STRAND|\nGGCGACCCUGAUGAGGCCGAAAGGCCGAAACCGU\n>1HMH_2|Chains B, D, F|HAMMERHEAD RIBOZYME-DNA STRAND|\nACGGTCGGTCGCC\n"
        ],
        [
         "5",
         "1RNG_A",
         "GGCGCUUGCGUC",
         "1995-12-07",
         "SOLUTION STRUCTURE OF THE CUUG HAIRPIN: A NOVEL RNA TETRALOOP MOTIF",
         ">1RNG_1|Chain A|RNA (5'-R(*GP*GP*CP*GP*CP*UP*UP*GP*CP*GP*UP*C)-3')|null\nGGCGCUUGCGUC\n"
        ],
        [
         "6",
         "1MME_D",
         "GGCCGAAACUCGUAAGAGUCACCAC",
         "1996-02-06",
         "THE CRYSTAL STRUCTURE OF AN ALL-RNA HAMMERHEAD RIBOZYME: A PROPOSED MECHANISM FOR RNA CATALYTIC CLEAVAGE",
         ">1MME_1|Chains A, C|RNA HAMMERHEAD RIBOZYME|\nGUGGUCUGAUGAGGCC\n>1MME_2|Chains B, D|RNA HAMMERHEAD RIBOZYME|\nGGCCGAAACUCGUAAGAGUCACCAC\n"
        ],
        [
         "7",
         "1KAJ_A",
         "GGCGCAGUGGGCUAGCGCCACUCAAAAGCCCG",
         "1996-07-11",
         "CONFORMATION OF AN RNA PSEUDOKNOT FROM MOUSE MAMMARY TUMOR VIRUS, NMR, 1 STRUCTURE",
         ">1KAJ_1|Chain A|RNA PSEUDOKNOT APK|\nGGCGCAGUGGGCUAGCGCCACUCAAAAGCCCG\n"
        ],
        [
         "8",
         "1SLO_A",
         "UUACCCAAGUUUGAGGUAA",
         "1996-12-07",
         "FIRST STEM LOOP OF THE SL1 RNA FROM CAENORHABDITIS ELEGANS, NMR, MINIMIZED AVERAGE STRUCTURE",
         ">1SLO_1|Chain A|RNA (5'-R(*UP*UP*AP*CP*CP*CP*AP*AP*GP*UP*UP*UP*GP*AP*GP*GP*UP*AP*A)-3')|Caenorhabditis elegans (6239)\nUUACCCAAGUUUGAGGUAA\n"
        ],
        [
         "9",
         "1BIV_A",
         "GGCUCGUGUAGCUCAUUAGCUCCGAGCC",
         "1996-12-23",
         "BOVINE IMMUNODEFICIENCY VIRUS TAT-TAR COMPLEX, NMR, 5 STRUCTURES",
         ">1BIV_1|Chain A|TAR RNA|synthetic construct (32630)\nGGCUCGUGUAGCUCAUUAGCUCCGAGCC\n>1BIV_2|Chain B|TAT PEPTIDE|Bovine immunodeficiency virus (11657)\nSGPRPRGTRGKGRRIRR\n"
        ],
        [
         "10",
         "1ANR_A",
         "GGCAGAUCUGAGCCUGGGAGCUCUCUGCC",
         "1997-01-11",
         "CIS-ACTING RNA REGULATORY ELEMENT (HIV-1 TAR), NMR, 20 STRUCTURES",
         ">1ANR_1|Chain A|RNA REGULATORY ELEMENT TAR|null\nGGCAGAUCUGAGCCUGGGAGCUCUCUGCC\n"
        ],
        [
         "11",
         "1ZIG_A",
         "GGGCGAGAGCCU",
         "1997-03-12",
         "GAGA RNA TETRALOOP, NMR, 10 STRUCTURES",
         ">1ZIG_1|Chain A|RNA (5'-R(*GP*GP*GP*CP*GP*AP*GP*AP*GP*CP*CP*U)-3')|\nGGGCGAGAGCCU\n"
        ],
        [
         "12",
         "1ZIH_A",
         "GGGCGCAAGCCU",
         "1997-03-12",
         "GCAA RNA TETRALOOP, NMR, 10 STRUCTURES",
         ">1ZIH_1|Chain A|RNA (5'-R(*GP*GP*GP*CP*GP*CP*AP*AP*GP*CP*CP*U)-3')|\nGGGCGCAAGCCU\n"
        ],
        [
         "13",
         "1ETF_A",
         "GGUCUGGGCGCAGCGCAAGCUGACGGUACAGGCC",
         "1997-03-12",
         "REV RESPONSE ELEMENT (RRE) RNA COMPLEXED WITH REV PEPTIDE, NMR, MINIMIZED AVERAGE STRUCTURE",
         ">1ETF_2|Chain B|REV PEPTIDE|Human immunodeficiency virus 1 (11676)\nDTRQARRNRRRRWRERQRAAAAR\n>1ETF_1|Chain A|REV RESPONSE ELEMENT RNA|\nGGUCUGGGCGCAGCGCAAGCUGACGGUACAGGCC\n"
        ],
        [
         "14",
         "1ZIF_A",
         "GGGCGAAAGCCU",
         "1997-03-12",
         "GAAA RNA TETRALOOP, NMR, 10 STRUCTURES",
         ">1ZIF_1|Chain A|RNA (5'-R(*GP*GP*GP*CP*GP*AP*AP*AP*GP*CP*CP*U)-3')|\nGGGCGAAAGCCU\n"
        ],
        [
         "15",
         "1KPD_A",
         "GGCGCAGUGGGCUAGCGCCACUCAAAGGCCCG",
         "1997-04-01",
         "A MUTANT RNA PSEUDOKNOT THAT PROMOTES RIBOSOMAL FRAMESHIFTING IN MOUSE MAMMARY TUMOR VIRUS, NMR, MINIMIZED AVERAGE STRUCTURE",
         ">1KPD_1|Chain A|RNA PSEUDOKNOT APKA27G|\nGGCGCAGUGGGCUAGCGCCACUCAAAGGCCCG\n"
        ],
        [
         "16",
         "1IKD_A",
         "GGGGCUCUUCGGAGCUCCACCA",
         "1997-04-01",
         "ACCEPTOR STEM, NMR, 30 STRUCTURES",
         ">1IKD_1|Chain A|TRNA ALA ACCEPTOR STEM|\nGGGGCUCUUCGGAGCUCCACCA\n"
        ],
        [
         "17",
         "1ZDI_S",
         "ACAUGAGGAUUACCCAUGU",
         "1997-04-21",
         "RNA BACTERIOPHAGE MS2 COAT PROTEIN/RNA COMPLEX",
         ">1ZDI_1|Chains A[auth R], B[auth S]|RNA (5'-R(*AP*CP*AP*UP*GP*AP*GP*GP*AP*UP*UP*AP*CP*CP*CP*AP*U P*GP*U)-3')|\nACAUGAGGAUUACCCAUGU\n>1ZDI_2|Chains C[auth A], D[auth B], E[auth C]|PROTEIN (RNA BACTERIOPHAGE MS2 COAT PROTEIN)|Enterobacterio phage MS2 (12022)\nASNFTQFVLVDNGGTGDVTVAPSNFANGVAEWISSNSRSQAYKVTCSVRQSSAQNRKYTIKVEVPKVATQTVGGVELPVAAWRSYLNMELTIPIFATNSDCELIVKAMQGLLKDGNPIPSAIAANSGIY\n"
        ],
        [
         "18",
         "1AFX_A",
         "GGUGUGAACACC",
         "1997-05-15",
         "UGAA EUKARYOTIC RIBOSOMAL RNA TETRALOOP, NMR, 13 STRUCTURES",
         ">1AFX_1|Chain A|RNA (5'-R(*GP*GP*UP*GP*UP*GP*AP*AP*CP*AP*CP*C)-3')|\nGGUGUGAACACC\n"
        ],
        [
         "19",
         "1EBQ_A",
         "GGUGGGCGCAGCUUCGGCUGCGGUACACC",
         "1997-07-07",
         "STRUCTURE OF RNA (5'-GGUGGGCGCAGCUUCGGCUGCGGUACCAC-3'), NMR, 5 STRUCTURES",
         ">1EBQ_1|Chain A|HIV-1 REV RESPONSIVE ELEMENT RNA|\nGGUGGGCGCAGCUUCGGCUGCGGUACACC\n"
        ],
        [
         "20",
         "1EBR_A",
         "GGUGGGCGCAGCUUCGGCUGACGGUACACC",
         "1997-07-07",
         "STRUCTURE OF RNA (5'-GGUGGGCGCAGCUUCGGCUGCGGUACCAC-3'), NMR, 5 STRUCTURES",
         ">1EBR_1|Chain A|HIV-1 REV RESPONSIVE ELEMENT RNA|\nGGUGGGCGCAGCUUCGGCUGACGGUACACC\n"
        ],
        [
         "21",
         "1ULL_A",
         "GGCUGGACUCGUACUUCGGUACUGGAGAAACAGCC",
         "1997-08-20",
         "RNA APTAMER COMPLEXED WITH HIV-1 REV PEPTIDE, NMR, 7 STRUCTURES",
         ">1ULL_1|Chain A|RNA (5'-R (GP*GP*CP*UP*GP*GP*AP*CP*UP*CP*GP*UP*AP*CP*UP*UP*CP*GP* GP*UP*AP*CP*UP*GP*GP*AP*GP*AP*AP*AP*CP*AP*GP*CP*C)-3')|null\nGGCUGGACUCGUACUUCGGUACUGGAGAAACAGCC\n>1ULL_2|Chain B|REV PEPTIDE|Human immunodeficiency virus 1 (11676)\nTRQARRNRRRRWRERQR\n"
        ],
        [
         "22",
         "1KIS_B",
         "GCUGUUCCCAGACAGC",
         "1997-10-15",
         "TAR-TAR \"KISSING\" HAIRPIN COMPLEX DERIVED FROM THE HIV GENOME, NMR, 1 STRUCTURE",
         ">1KIS_1|Chain A|RNA (5'-R(*GP*AP*GP*CP*CP*CP*UP*GP*GP*GP*AP*GP*GP*CP*UP*C)-3')|synthetic construct (32630)\nGAGCCCUGGGAGGCUC\n>1KIS_2|Chain B|RNA (5'-R(*GP*CP*UP*GP*UP*UP*CP*CP*CP*AP*GP*AP*CP*AP*GP*C)-3')|synthetic construct (32630)\nGCUGUUCCCAGACAGC\n"
        ],
        [
         "23",
         "1KIS_A",
         "GAGCCCUGGGAGGCUC",
         "1997-10-15",
         "TAR-TAR \"KISSING\" HAIRPIN COMPLEX DERIVED FROM THE HIV GENOME, NMR, 1 STRUCTURE",
         ">1KIS_1|Chain A|RNA (5'-R(*GP*AP*GP*CP*CP*CP*UP*GP*GP*GP*AP*GP*GP*CP*UP*C)-3')|synthetic construct (32630)\nGAGCCCUGGGAGGCUC\n>1KIS_2|Chain B|RNA (5'-R(*GP*CP*UP*GP*UP*UP*CP*CP*CP*AP*GP*AP*CP*AP*GP*C)-3')|synthetic construct (32630)\nGCUGUUCCCAGACAGC\n"
        ],
        [
         "24",
         "1ATO_A",
         "GGCACCUCCUCGCGGUGCC",
         "1997-11-12",
         "THE STRUCTURE OF THE ISOLATED, CENTRAL HAIRPIN OF THE HDV ANTIGENOMIC RIBOZYME, NMR, 10 STRUCTURES",
         ">1ATO_1|Chain A|RNA (5'-R(*GP*GP*CP*AP*CP*CP*UP*CP*CP*UP*CP*GP*CP*GP*GP*UP*GP*CP*C)-3')|Hepatitis delta virus (12475)\nGGCACCUCCUCGCGGUGCC\n"
        ],
        [
         "25",
         "1TLR_A",
         "GGCCUAAGACUUCGGUUAUGGCC",
         "1997-11-12",
         "SOLUTION STRUCTURE OF TETRALOOP RECEPTOR RNA, NMR, 20 STRUCTURES",
         ">1TLR_1|Chain A|RNA TETRALOOP RECEPTOR (5'-R(GGCCUAAGACUUCGGUUAUGGCC)-3')|\nGGCCUAAGACUUCGGUUAUGGCC\n"
        ],
        [
         "26",
         "1VOP_A",
         "GACUGGGGCGGUC",
         "1997-12-24",
         "CONSERVED RNA COMPONENT OF THE PEPTIDYL TRANSFERASE CENTER, NMR, 33 STRUCTURES",
         ">1VOP_1|Chain A|23S RIBOSOMAL RNA|\nGACUGGGGCGGUC\n"
        ],
        [
         "27",
         "1AQO_A",
         "GGAGUGCUUCAACAGUGCUUGGACGCUCC",
         "1998-02-04",
         "IRON RESPONSIVE ELEMENT RNA HAIRPIN, NMR, 15 STRUCTURES",
         ">1AQO_1|Chain A|IRON RESPONSIVE ELEMENT RNA HAIRPIN|\nGGAGUGCUUCAACAGUGCUUGGACGCUCC\n"
        ],
        [
         "28",
         "1ATV_A",
         "GGGACCAGAAGGUCCCG",
         "1998-02-25",
         "HAIRPIN WITH AGAA TETRALOOP, NMR, 4 STRUCTURES",
         ">1ATV_1|Chain A|RNA (5'-R(*GP*GP*GP*AP*CP*CP*AP*GP*AP*AP*GP*GP*UP*CP*CP*CP*G)-3')|\nGGGACCAGAAGGUCCCG\n"
        ],
        [
         "29",
         "1ATW_A",
         "GCUCCAGAUGGAGCG",
         "1998-02-25",
         "HAIRPIN WITH AGAU TETRALOOP, NMR, 3 STRUCTURES",
         ">1ATW_1|Chain A|RNA (5'-R(*GP*CP*UP*CP*CP*AP*GP*AP*UP*GP*GP*AP*GP*CP*G)-3')|\nGCUCCAGAUGGAGCG\n"
        ],
        [
         "30",
         "1UUU_A",
         "GGCGUACGUUUCGUACGCC",
         "1998-02-25",
         "STRUCTURE OF AN RNA HAIRPIN LOOP WITH A 5'-CGUUUCG-3' LOOP MOTIF BY HETERONUCLEAR NMR SPECTROSCOPY AND DISTANCE GEOMETRY, 15 STRUCTURES",
         ">1UUU_1|Chain A|RNA (5'-R(*GP*GP*CP*GP*UP*AP*CP*GP*UP*UP*UP*CP*GP*UP*AP*CP*GP*CP*C)-3')|\nGGCGUACGUUUCGUACGCC\n"
        ],
        [
         "31",
         "1AUD_B",
         "GGCAGAGUCCUUCGGGACAUUGCACCUGCC",
         "1998-02-25",
         "U1A-UTRRNA, NMR, 31 STRUCTURES",
         ">1AUD_1|Chain A[auth B]|RNA 3UTR|\nGGCAGAGUCCUUCGGGACAUUGCACCUGCC\n>1AUD_2|Chain B[auth A]|U1A 102|Homo sapiens (9606)\nAVPETRPNHTIYINNLNEKIKKDELKKSLHAIFSRFGQILDILVSRSLKMRGQAFVIFKEVSSATNALRSMQGFPFYDKPMRIQYAKTDSDIIAKMKGTFV\n"
        ],
        [
         "32",
         "2U2A_A",
         "GGUCAGUGUAACAACUGACC",
         "1998-03-04",
         "STEM LOOP IIA FROM U2 SNRNA OF SACCHAROMYCES CEREVISIAE, NMR, MINIMIZED AVERAGE STRUCTURE",
         ">2U2A_1|Chain A|RNA (5'-R(P*GP*GP*UP*CP*AP*GP*UP*GP*UP*AP*AP*CP*AP*AP*CP*UP*GP*AP*CP*C)-3')|Saccharomyces cerevisiae (4932)\nGGUCAGUGUAACAACUGACC\n"
        ],
        [
         "33",
         "1A4T_A",
         "GCGCUGACAAAGCGC",
         "1998-04-29",
         "SOLUTION STRUCTURE OF PHAGE P22 N PEPTIDE-BOX B RNA COMPLEX, NMR, 20 STRUCTURES",
         ">1A4T_1|Chain A|BOXB RNA|\nGCGCUGACAAAGCGC\n>1A4T_2|Chain B|20-MER BASIC PEPTIDE|Enterobacteria phage P22 (10754)\nNAKTRRHERRRKLAIERDT\n"
        ],
        [
         "34",
         "1A60_A",
         "GGGAGCUCAACUCUCCCCCCCUUUUCCGAGGGUCAUCGGAACCA",
         "1998-05-27",
         "NMR STRUCTURE OF A CLASSICAL PSEUDOKNOT: INTERPLAY OF SINGLE-AND DOUBLE-STRANDED RNA, 24 STRUCTURES",
         ">1A60_1|Chain A|TYMV PSEUDOKNOT|Turnip yellow mosaic virus (12154)\nGGGAGCUCAACUCUCCCCCCCUUUUCCGAGGGUCAUCGGAACCA\n"
        ],
        [
         "35",
         "1A51_A",
         "GGCCGAUGGUAGUGUGGGGUCUCCCCAUGCGAGAGUAGGCC",
         "1998-05-27",
         "LOOP D/LOOP E ARM OF E. COLI 5S RRNA, NMR, 9 STRUCTURES",
         ">1A51_1|Chain A|5S RRNA LOOP D/LOOP E|Escherichia coli (562)\nGGCCGAUGGUAGUGUGGGGUCUCCCCAUGCGAGAGUAGGCC\n"
        ],
        [
         "36",
         "2A9L_A",
         "GGGUGACUCCAGAGGUCGAGAGACCGGAGAUAUCACCC",
         "1998-06-17",
         "SOLUTION NMR STRUCTURE OF A SUBSTRATE FOR THE ARCHAEAL PRE-TRNA SPLICING ENDONUCLEASES: THE BULGE-HELIX-BULGE MOTIF, MINIMIZED AVERAGE STRUCTURE",
         ">2A9L_1|Chain A|ABISS7 RNA|null\nGGGUGACUCCAGAGGUCGAGAGACCGGAGAUAUCACCC\n"
        ],
        [
         "37",
         "1A1T_B",
         "GGACUAGCGGAGGCUAGUCC",
         "1998-06-17",
         "STRUCTURE OF THE HIV-1 NUCLEOCAPSID PROTEIN BOUND TO THE SL3 PSI-RNA RECOGNITION ELEMENT, NMR, 25 STRUCTURES",
         ">1A1T_1|Chain A[auth B]|SL3 STEM-LOOP RNA|\nGGACUAGCGGAGGCUAGUCC\n>1A1T_2|Chain B[auth A]|NUCLEOCAPSID PROTEIN|Human immunodeficiency virus 1 (11676)\nMQKGNFRNQRKTVKCFNCGKEGHIAKNCRAPRKKGCWKCGKEGHQMKDCTERQAN\n"
        ],
        [
         "38",
         "1A9N_Q",
         "CCUGGUAUUGCAGUACCUCCAGGU",
         "1998-09-23",
         "CRYSTAL STRUCTURE OF THE SPLICEOSOMAL U2B''-U2A' PROTEIN COMPLEX BOUND TO A FRAGMENT OF U2 SMALL NUCLEAR RNA",
         ">1A9N_1|Chains A[auth Q], B[auth R]|RNA (5'-R(*CP*CP*UP*GP*GP*UP*AP*UP*UP*GP*CP*AP*GP*UP*AP*CP*CP*UP*CP*CP*AP*GP* GP*U)-3')|Homo sapiens (9606)\nCCUGGUAUUGCAGUACCUCCAGGU\n>1A9N_2|Chains C[auth A], D[auth C]|U2A'|Homo sapiens (9606)\nMVKLTAELIEQAAQYTNAVRDRELDLRGYKIPVIENLGATLDQFDAIDFSDNEIRKLDGFPLLRRLKTLLVNNNRICRIGEGLDQALPDLTELILTNNSLVELGDLDPLASLKSLTYLCILRNPVTNKKHYRLYVIYKVPQVRVLDFQKVKLKERQEAEKMFKGKRGAQLAKDIAR\n>1A9N_3|Chains E[auth B], F[auth D]|SPLICEOSOMAL U2B''|Homo sapiens (9606)\nMDIRPNHTIYINNMNDKIKKEELKRSLYALFSQFGHVVDIVALKTMKMRGQAFVIFKELGSSTNALRQLQGFPFYGKPMRIQYAKTDSDIISKMRG\n"
        ],
        [
         "39",
         "3PHP_A",
         "GGUUCCGAGGGUCAUCGGAACCA",
         "1998-10-21",
         "STRUCTURE OF THE 3' HAIRPIN OF THE TYMV PSEUDOKNOT: PREFORMATION IN RNA FOLDING",
         ">3PHP_1|Chain A|RNA (5'-R(*GP*GP*UP*UP*CP*CP*GP*AP*GP*GP*GP*UP*CP*AP*UP*CP*GP*GP*AP*AP*CP*CP*A) -3')|null\nGGUUCCGAGGGUCAUCGGAACCA\n"
        ],
        [
         "40",
         "2TPK_A",
         "GCUGACCAGCUAUGAGGUCAUACAUCGUCAUAGCAC",
         "1998-11-04",
         "AN INVESTIGATION OF THE STRUCTURE OF THE PSEUDOKNOT WITHIN THE GENE 32 MESSENGER RNA OF BACTERIOPHAGE T2 USING HETERONUCLEAR NMR METHODS",
         ">2TPK_1|Chain A|RNA (MRNA PSEUDOKNOT)|null\nGCUGACCAGCUAUGAGGUCAUACAUCGUCAUAGCAC\n"
        ],
        [
         "41",
         "7MSF_S",
         "UCGCCAACAGGCGG",
         "1998-11-11",
         "MS2 PROTEIN CAPSID/RNA COMPLEX",
         ">7MSF_1|Chains A[auth R], B[auth S]|5'-R(*UP*CP*GP*CP*CP*AP*AP*CP*AP*GP*GP*CP*GP*G)-3'|null\nUCGCCAACAGGCGG\n>7MSF_2|Chains C[auth A], D[auth B], E[auth C]|MS2 PROTEIN CAPSID|Enterobacterio phage MS2 (12022)\nASNFTQFVLVDNGGTGDVTVAPSNFANGVAEWISSNSRSQAYKVTCSVRQSSAQNRKYTIKVEVPKVATQTVGGVELPVAAWRSYLNMELTIPIFATNSDCELIVKAMQGLLKDGNPIPSAIAANSGIY\n"
        ],
        [
         "42",
         "5MSF_S",
         "CCGGAGGAUCACCACGGG",
         "1998-11-11",
         "MS2 PROTEIN CAPSID/RNA COMPLEX",
         ">5MSF_1|Chains A[auth R], B[auth S]|5'-R(*CP*CP*GP*GP*AP*GP*GP*AP*UP*CP*AP*CP*CP*AP*CP*GP*GP*G)-3'|null\nCCGGAGGAUCACCACGGG\n>5MSF_2|Chains C[auth A], D[auth B], E[auth C]|MS2 PROTEIN CAPSID|Enterobacterio phage MS2 (12022)\nASNFTQFVLVDNGGTGDVTVAPSNFANGVAEWISSNSRSQAYKVTCSVRQSSAQNRKYTIKVEVPKVATQTVGGVELPVAAWRSYLNMELTIPIFATNSDCELIVKAMQGLLKDGNPIPSAIAANSGIY\n"
        ],
        [
         "43",
         "1LDZ_A",
         "GCGACCGAGCCAGCGAAAGUUGGGAGUCGC",
         "1998-11-25",
         "SOLUTION STRUCTURE OF THE LEAD-DEPENDENT RIBOZYME, NMR, 25 STRUCTURES",
         ">1LDZ_1|Chain A|LEAD-DEPENDENT RIBOZYME|null\nGCGACCGAGCCAGCGAAAGUUGGGAGUCGC\n"
        ],
        [
         "44",
         "1ZDK_S",
         "ACAUGAGGAUCACCCAUGU",
         "1998-12-07",
         "STRUCTURE OF BACTERIOPHAGE COAT PROTEIN-LOOP RNA COMPLEX",
         ">1ZDK_1|Chains A[auth R], B[auth S]|RNA (5'-R(P*AP*CP*AP*UP*GP*AP*GP*GP*AP*UP*CP*AP*CP*CP*CP*AP*UP*GP*U)-3')|null\nACAUGAGGAUCACCCAUGU\n>1ZDK_2|Chains C[auth A], D[auth B], E[auth C]|PROTEIN (MS2 PROTEIN CAPSID)|Enterobacterio phage MS2 (12022)\nASNFTQFVLVDNGGTGDVTVAPSNFANGVAEWISSNSRSQAYKVTCSVRQSSAQNRKYTIKVEVPKVATQTVGGVELPVAAWRSYLNMELTIPIFATNSDCELIVKAMQGLLKDGNPIPSAIAANSGIY\n"
        ],
        [
         "45",
         "1BVJ_A",
         "GGCGACGGUGUAAAAAUCUCGCC",
         "1998-12-09",
         "HIV-1 RNA A-RICH HAIRPIN LOOP",
         ">1BVJ_1|Chain A|RNA (5'-R(P*GP*GP*CP*GP*AP*CP*GP*GP*UP*GP*UP*AP*AP*AP*AP*AP*UP*CP*UP*CP*GP*CP* C)-3')|Human immunodeficiency virus type 1 (MAL ISOLATE) (11697)\nGGCGACGGUGUAAAAAUCUCGCC\n"
        ],
        [
         "46",
         "1B36_A",
         "GGUGCAGAAACAGCGCUUCGGCGCGUAUAUUACGCACC",
         "1998-12-23",
         "SOLUTION STRUCTURE OF THE HAIRPIN RIBOZYME LOOP B DOMAIN RNA, NMR, 10 STRUCTURES",
         ">1B36_1|Chain A|RNA (RNA LOOP B)|synthetic construct (32630)\nGGUGCAGAAACAGCGCUUCGGCGCGUAUAUUACGCACC\n"
        ],
        [
         "47",
         "1HVU_I",
         "AGAUUCCGUUUUCAGUCGGGAAAAACUGAA",
         "1999-01-13",
         "HUMAN IMMUNODEFICIENCY VIRUS TYPE 1 REVERSE TRANSCRIPTASE COMPLEXED WITH A 33-BASE NUCLEOTIDE RNA PSEUDOKNOT",
         ">1HVU_1|Chains A[auth C], B[auth F], C[auth I], D[auth L]|RNA (33 NUCLEOTIDE RNA PSEUDOKNOT)|\nAGAUUCCGUUUUCAGUCGGGAAAAACUGAA\n>1HVU_2|Chains E[auth A], G[auth D], H[auth G], I[auth J]|PROTEIN (HIV-1 REVERSE TRANSCRIPTASE)|Human immunodeficiency virus 1 (11676)\nPISPIETVPVKLKPGMDGPKVKQWPLTEEKIKALVEICTEMEKEGKISKIGPENPYNTPVFAIKKKDSTKWRKLVDFRELNKRTQDFWEVQLGIPHPAGLKKKKSVTVLDVGDAYFSVPLDEDFRKYTAFTIPSINNETPGIRYQYNVLPQGWKGSPAIFQSSMTKILEPFKKQNPDIVIYQYMDDLYVGSDLEIGQHRTKIEELRQHLLRWGLTTPDKKHQKEPPFLWMGYELHPDKWTVQPIVLPEKDSWTVNDIQKLVGKLNWASQIYPGIKVRQLCKLLRGTKALTEVIPLTEEAELELAENREILKEPVHGVYYDPSKDLIAEIQKQGQGQWTYQIYQEPFKNLKTGKYARMRGAHTNDVKQLTEAVQKITTESIVIWGKTPKFKLPIQKETWETWWTEYWQATWIPEWEFVNTPPLVKLWYQLEKEPIVGAETFYVDGAANRETKLGKAGYVTNKGRQKVVPLTNTTNQKTELQAIYLALQDSGLEVNIVTDSQYALGIIQAQPDKSESELVNQIIEQLIKKEKVYLAWVPAHKGIGGNEQVDKLVSA\n>1HVU_3|Chains F[auth B], J[auth E], K[auth H], L[auth K]|PROTEIN (HIV-1 REVERSE TRANSCRIPTASE)|Human immunodeficiency virus 1 (11676)\nIETVPVKLKPGMDGPKVKQWPLTEEKIKALVEICTEMEKEGKISKIGPENPYNTPVFAIKKKDSTKWRKLVDFRELNKRTQDFWEVQLGIPHPAGLKKKKSVTVLDVGDAYFSVPLDEDFRKYTAFTIPSINNETPGIRYQYNVLPQGWKGSPAIFQSSMTKILEPFKKQNPDIVIYQYMDDLYVGSDLEIGQHRTKIEELRQHLLRWGLTTPDKKHQKEPPFLWMGYELHPDKWTVQPIVLPEKDSWTVNDIQKLVGKLNWASQIYPGIKVRQLCKLLRGTKALTEVIPLTEEAELELAENREILKEPVHGVYYDPSKDLIAEIQKQGQGQWTYQIYQEPFKNLKTGKYARMRGAHTNDVKQLTEAVQKITTESIVIWGKTPKFKLPIQKETWETWWTEYWQATWIPEWEFVNTPPLVKLWY\n"
        ],
        [
         "48",
         "1BGZ_A",
         "GGGAUACUGCUUCGGUAAGUCCC",
         "1999-01-13",
         "S8 RRNA BINDING SITE FROM E. COLI, NMR, 6 STRUCTURES",
         ">1BGZ_1|Chain A|RNA|\nGGGAUACUGCUUCGGUAAGUCCC\n"
        ],
        [
         "49",
         "2BJ2_B",
         "GCACCGAACCAUCCGGUGC",
         "1999-02-02",
         "RNA LOOP-LOOP COMPLEX: THE COLE1 INVERTED LOOP SEQUENCE, NMR, MINIMIZED AVERAGE STRUCTURE",
         ">2BJ2_1|Chain A|RNA (5'-R(*GP*GP*CP*AP*AP*CP*GP*GP*AP*UP*GP*GP*UP*UP*CP*GP*UP*UP*GP*CP*C)-3')|\nGGCAACGGAUGGUUCGUUGCC\n>2BJ2_2|Chain B|RNA (5'-R(*GP*CP*AP*CP*CP*GP*AP*AP*CP*CP*AP*UP*CP*CP*GP*GP*UP*GP*C)-3')|\nGCACCGAACCAUCCGGUGC\n"
        ]
       ],
       "shape": {
        "columns": 5,
        "rows": 100
       }
      },
      "text/html": [
       "<div>\n",
       "<style scoped>\n",
       "    .dataframe tbody tr th:only-of-type {\n",
       "        vertical-align: middle;\n",
       "    }\n",
       "\n",
       "    .dataframe tbody tr th {\n",
       "        vertical-align: top;\n",
       "    }\n",
       "\n",
       "    .dataframe thead th {\n",
       "        text-align: right;\n",
       "    }\n",
       "</style>\n",
       "<table border=\"1\" class=\"dataframe\">\n",
       "  <thead>\n",
       "    <tr style=\"text-align: right;\">\n",
       "      <th></th>\n",
       "      <th>target_id</th>\n",
       "      <th>sequence</th>\n",
       "      <th>temporal_cutoff</th>\n",
       "      <th>description</th>\n",
       "      <th>all_sequences</th>\n",
       "    </tr>\n",
       "  </thead>\n",
       "  <tbody>\n",
       "    <tr>\n",
       "      <th>0</th>\n",
       "      <td>1SCL_A</td>\n",
       "      <td>GGGUGCUCAGUACGAGAGGAACCGCACCC</td>\n",
       "      <td>1995-01-26</td>\n",
       "      <td>THE SARCIN-RICIN LOOP, A MODULAR RNA</td>\n",
       "      <td>&gt;1SCL_1|Chain A|RNA SARCIN-RICIN LOOP|Rattus n...</td>\n",
       "    </tr>\n",
       "    <tr>\n",
       "      <th>1</th>\n",
       "      <td>1RNK_A</td>\n",
       "      <td>GGCGCAGUGGGCUAGCGCCACUCAAAAGGCCCAU</td>\n",
       "      <td>1995-02-27</td>\n",
       "      <td>THE STRUCTURE OF AN RNA PSEUDOKNOT THAT CAUSES...</td>\n",
       "      <td>&gt;1RNK_1|Chain A|RNA PSEUDOKNOT|null\\nGGCGCAGUG...</td>\n",
       "    </tr>\n",
       "    <tr>\n",
       "      <th>2</th>\n",
       "      <td>1RHT_A</td>\n",
       "      <td>GGGACUGACGAUCACGCAGUCUAU</td>\n",
       "      <td>1995-06-03</td>\n",
       "      <td>24-MER RNA HAIRPIN COAT PROTEIN BINDING SITE F...</td>\n",
       "      <td>&gt;1RHT_1|Chain A|RNA (5'-R(P*GP*GP*GP*AP*CP*UP*...</td>\n",
       "    </tr>\n",
       "    <tr>\n",
       "      <th>3</th>\n",
       "      <td>1HLX_A</td>\n",
       "      <td>GGGAUAACUUCGGUUGUCCC</td>\n",
       "      <td>1995-09-15</td>\n",
       "      <td>P1 HELIX NUCLEIC ACIDS (DNA/RNA) RIBONUCLEIC ACID</td>\n",
       "      <td>&gt;1HLX_1|Chain A|RNA (5'-R(*GP*GP*GP*AP*UP*AP*A...</td>\n",
       "    </tr>\n",
       "    <tr>\n",
       "      <th>4</th>\n",
       "      <td>1HMH_E</td>\n",
       "      <td>GGCGACCCUGAUGAGGCCGAAAGGCCGAAACCGU</td>\n",
       "      <td>1995-12-07</td>\n",
       "      <td>THREE-DIMENSIONAL STRUCTURE OF A HAMMERHEAD RI...</td>\n",
       "      <td>&gt;1HMH_1|Chains A, C, E|HAMMERHEAD RIBOZYME-RNA...</td>\n",
       "    </tr>\n",
       "    <tr>\n",
       "      <th>...</th>\n",
       "      <td>...</td>\n",
       "      <td>...</td>\n",
       "      <td>...</td>\n",
       "      <td>...</td>\n",
       "      <td>...</td>\n",
       "    </tr>\n",
       "    <tr>\n",
       "      <th>95</th>\n",
       "      <td>1K6G_A</td>\n",
       "      <td>GGCGUCAUGAGUCCAUGGCGCC</td>\n",
       "      <td>2001-12-19</td>\n",
       "      <td>Solution Structure of Conserved AGNN Tetraloop...</td>\n",
       "      <td>&gt;1K6G_1|Chain A|RNA (5'-R(P*GP*GP*CP*GP*UP*CP*...</td>\n",
       "    </tr>\n",
       "    <tr>\n",
       "      <th>96</th>\n",
       "      <td>1K4B_A</td>\n",
       "      <td>GGUUCAGUUGAACC</td>\n",
       "      <td>2001-12-19</td>\n",
       "      <td>STRUCTURE OF AGUU RNA TETRALOOP, NMR, 20 STRUC...</td>\n",
       "      <td>&gt;1K4B_1|Chain A|5'-R(*GP*GP*UP*UP*CP*AP*GP*UP*...</td>\n",
       "    </tr>\n",
       "    <tr>\n",
       "      <th>97</th>\n",
       "      <td>1K4A_A</td>\n",
       "      <td>GGUUCAGAAGAACC</td>\n",
       "      <td>2001-12-19</td>\n",
       "      <td>STRUCTURE OF AGAA RNA TETRALOOP, NMR, 20 STRUC...</td>\n",
       "      <td>&gt;1K4A_1|Chain A|5'-R(*GP*GP*UP*UP*CP*AP*GP*AP*...</td>\n",
       "    </tr>\n",
       "    <tr>\n",
       "      <th>98</th>\n",
       "      <td>1K6H_A</td>\n",
       "      <td>GGCGUGUUCAGAAGAACGCGCC</td>\n",
       "      <td>2001-12-19</td>\n",
       "      <td>Solution Structure of Conserved AGNN Tetraloop...</td>\n",
       "      <td>&gt;1K6H_1|Chain A|RNA (5'-R(P*GP*GP*CP*GP*UP*GP*...</td>\n",
       "    </tr>\n",
       "    <tr>\n",
       "      <th>99</th>\n",
       "      <td>1JUR_A</td>\n",
       "      <td>GGCCUGAGGAGACUCAGAAGCC</td>\n",
       "      <td>2002-01-16</td>\n",
       "      <td>Solution Structure of Helix III in Xenopus Ooc...</td>\n",
       "      <td>&gt;1JUR_1|Chain A|5'-R(*GP*GP*CP*CP*UP*GP*AP*GP*...</td>\n",
       "    </tr>\n",
       "  </tbody>\n",
       "</table>\n",
       "<p>100 rows × 5 columns</p>\n",
       "</div>"
      ],
      "text/plain": [
       "   target_id                            sequence temporal_cutoff  \\\n",
       "0     1SCL_A       GGGUGCUCAGUACGAGAGGAACCGCACCC      1995-01-26   \n",
       "1     1RNK_A  GGCGCAGUGGGCUAGCGCCACUCAAAAGGCCCAU      1995-02-27   \n",
       "2     1RHT_A            GGGACUGACGAUCACGCAGUCUAU      1995-06-03   \n",
       "3     1HLX_A                GGGAUAACUUCGGUUGUCCC      1995-09-15   \n",
       "4     1HMH_E  GGCGACCCUGAUGAGGCCGAAAGGCCGAAACCGU      1995-12-07   \n",
       "..       ...                                 ...             ...   \n",
       "95    1K6G_A              GGCGUCAUGAGUCCAUGGCGCC      2001-12-19   \n",
       "96    1K4B_A                      GGUUCAGUUGAACC      2001-12-19   \n",
       "97    1K4A_A                      GGUUCAGAAGAACC      2001-12-19   \n",
       "98    1K6H_A              GGCGUGUUCAGAAGAACGCGCC      2001-12-19   \n",
       "99    1JUR_A              GGCCUGAGGAGACUCAGAAGCC      2002-01-16   \n",
       "\n",
       "                                          description  \\\n",
       "0                THE SARCIN-RICIN LOOP, A MODULAR RNA   \n",
       "1   THE STRUCTURE OF AN RNA PSEUDOKNOT THAT CAUSES...   \n",
       "2   24-MER RNA HAIRPIN COAT PROTEIN BINDING SITE F...   \n",
       "3   P1 HELIX NUCLEIC ACIDS (DNA/RNA) RIBONUCLEIC ACID   \n",
       "4   THREE-DIMENSIONAL STRUCTURE OF A HAMMERHEAD RI...   \n",
       "..                                                ...   \n",
       "95  Solution Structure of Conserved AGNN Tetraloop...   \n",
       "96  STRUCTURE OF AGUU RNA TETRALOOP, NMR, 20 STRUC...   \n",
       "97  STRUCTURE OF AGAA RNA TETRALOOP, NMR, 20 STRUC...   \n",
       "98  Solution Structure of Conserved AGNN Tetraloop...   \n",
       "99  Solution Structure of Helix III in Xenopus Ooc...   \n",
       "\n",
       "                                        all_sequences  \n",
       "0   >1SCL_1|Chain A|RNA SARCIN-RICIN LOOP|Rattus n...  \n",
       "1   >1RNK_1|Chain A|RNA PSEUDOKNOT|null\\nGGCGCAGUG...  \n",
       "2   >1RHT_1|Chain A|RNA (5'-R(P*GP*GP*GP*AP*CP*UP*...  \n",
       "3   >1HLX_1|Chain A|RNA (5'-R(*GP*GP*GP*AP*UP*AP*A...  \n",
       "4   >1HMH_1|Chains A, C, E|HAMMERHEAD RIBOZYME-RNA...  \n",
       "..                                                ...  \n",
       "95  >1K6G_1|Chain A|RNA (5'-R(P*GP*GP*CP*GP*UP*CP*...  \n",
       "96  >1K4B_1|Chain A|5'-R(*GP*GP*UP*UP*CP*AP*GP*UP*...  \n",
       "97  >1K4A_1|Chain A|5'-R(*GP*GP*UP*UP*CP*AP*GP*AP*...  \n",
       "98  >1K6H_1|Chain A|RNA (5'-R(P*GP*GP*CP*GP*UP*GP*...  \n",
       "99  >1JUR_1|Chain A|5'-R(*GP*GP*CP*CP*UP*GP*AP*GP*...  \n",
       "\n",
       "[100 rows x 5 columns]"
      ]
     },
     "metadata": {},
     "output_type": "display_data"
    }
   ],
   "source": [
    "# print('df_sample_submission_sunny')\n",
    "# display(df_sample_submission_sunny.head())\n",
    "# print('df_test_sequences_sunny')\n",
    "# display(df_test_sequences_sunny.head())\n",
    "display('df_train_labels_sunny')\n",
    "display(df_train_labels_sunny.head(100))\n",
    "display('df_train_sequences_sunny')\n",
    "display(df_train_sequences_sunny.head(100))\n",
    "# display('df_validation_labels')\n",
    "# display(df_validation_labels.head())\n",
    "# display('df_sample_submission')\n",
    "# display(df_sample_submission.head())\n",
    "# display('df_test_sequences')\n",
    "# display(df_test_sequences.head())\n",
    "# display('df_validation_sequences')\n",
    "# display(df_validation_sequences.head())\n",
    "# display('df_train_labels')\n",
    "# display(df_train_labels.head())\n",
    "# display('df_train_sequences')\n",
    "# display(df_train_sequences.head())\n"
   ]
  },
  {
   "cell_type": "code",
   "execution_count": 24,
   "metadata": {},
   "outputs": [],
   "source": [
    "def data_overview(data, target):\n",
    "    # Overview\n",
    "    display(Markdown(\"## Data Overview\"))\n",
    "    \n",
    "    display(Markdown(\"### General Information\"))\n",
    "    display(Markdown(f\"- Number of rows and columns: {data.shape[0]} x {data.shape[1]}\"))\n",
    "    display(Markdown(\"- Column names:\"))\n",
    "    display(list(data.columns))\n",
    "\n",
    "    display(Markdown(\"### Data Types & Missing Values\"))\n",
    "    missing = data.isnull().sum()\n",
    "    dtypes = pd.DataFrame(data.dtypes, columns=[\"Data Type\"])\n",
    "    missing_df = pd.DataFrame(missing, columns=[\"Missing Values\"])\n",
    "    overview_df = dtypes.join(missing_df)\n",
    "    display(overview_df.style.background_gradient(cmap=\"coolwarm\"))\n",
    "\n",
    "    display(Markdown(\"### Classic head of Data\"))\n",
    "    display(data.head().style.set_properties(**{\"background-color\": \"#f5f5f5\"}))\n",
    "\n",
    "    display(Markdown(\"### Statistical Summary (describe)\"))\n",
    "    display(data.describe().T.style.background_gradient(cmap=\"viridis\"))\n",
    "\n",
    "    # Target variable analysis\n",
    "    if target is not None:\n",
    "        display(Markdown(f\"## Target Variable: `{target}`\"))\n",
    "        sns.set_style(\"whitegrid\")  \n",
    "        sns.set_palette(\"viridis\")   \n",
    "\n",
    "        fig, ax = plt.subplots(1, 2, figsize=(14, 5))\n",
    "\n",
    "        #   Absolute frequency barplot\n",
    "        sns.barplot(x=data[target].value_counts().index, \n",
    "                y=data[target].value_counts(), \n",
    "                ax=ax[0])  \n",
    "\n",
    "        ax[0].set_title(\"Absolute Frequency\", fontsize=12, fontweight=\"bold\")\n",
    "        ax[0].set_ylabel(\"Count\")\n",
    "        ax[0].set_xlabel(target)\n",
    "        ax[0].grid(axis=\"y\", linestyle=\"--\", alpha=0.5)  \n",
    "\n",
    "        # Percentage distribution barplot\n",
    "        sns.barplot(x=data[target].value_counts().index, \n",
    "                    y=data[target].value_counts(normalize=True), \n",
    "                    ax=ax[1])  \n",
    "\n",
    "        ax[1].set_title(\"Percentage Distribution\", fontsize=12, fontweight=\"bold\")\n",
    "        ax[1].set_ylabel(\"Percentage\")\n",
    "        ax[1].set_xlabel(target)\n",
    "        ax[1].grid(axis=\"y\", linestyle=\"--\", alpha=0.5)\n",
    "\n",
    "    \n",
    "\n",
    "        for spine in [\"top\", \"right\"]:\n",
    "            ax[0].spines[spine].set_visible(False)\n",
    "            ax[1].spines[spine].set_visible(False)\n",
    "\n",
    "    plt.tight_layout()\n",
    "    plt.show()"
   ]
  },
  {
   "cell_type": "markdown",
   "metadata": {},
   "source": [
    "# Quick PreProcessing about some features"
   ]
  },
  {
   "cell_type": "markdown",
   "metadata": {},
   "source": [
    "# Optional Point: Concat the data"
   ]
  },
  {
   "cell_type": "markdown",
   "metadata": {},
   "source": [
    "# Feature Analyse"
   ]
  },
  {
   "cell_type": "code",
   "execution_count": 25,
   "metadata": {},
   "outputs": [],
   "source": [
    "def visualize_feature_attributes(df, target=None):\n",
    "    \"\"\" Visualizes numeric and categorical features \"\"\"\n",
    "\n",
    "    # Get Numeric & Categorical Features\n",
    "    numeric_features, categorical_features =get_categorical_numerical_features(df)\n",
    "\n",
    "    # Numeric Features\n",
    "    if numeric_features:\n",
    "        display(Markdown(\"## Numeric Feature Attributes\"))\n",
    "        for col in numeric_features:\n",
    "            if col != target:\n",
    "                plot_numeric_feature(df, col, target)\n",
    "    else:\n",
    "        print(\"No numeric features found.\")\n",
    "\n",
    "    # Categorical Features\n",
    "    if categorical_features:\n",
    "        display(Markdown(\"## Categorical Feature Attributes\"))\n",
    "        for col in categorical_features:\n",
    "            if col != target:\n",
    "                if df[col].nunique() > 10:\n",
    "                    df = reduce_categories(df, col, top_n=15)\n",
    "                plot_categorical_feature(df, col, target)\n",
    "    else:\n",
    "        print(\"No categorical features found.\")\n",
    "\n",
    "\n",
    "def plot_numeric_feature(df, col, target):\n",
    "    \"\"\" Plots Histogram, Boxplot, and Violinplot for a numeric feature \"\"\"\n",
    "    fig, axes = plt.subplots(1, 3, figsize=(20, 5))\n",
    "\n",
    "    sns.histplot(df[col], ax=axes[0], kde=True)\n",
    "    axes[0].set_title(f\"Distribution of {col}\", fontweight=\"bold\")\n",
    "\n",
    "    sns.boxplot(x=df[col], ax=axes[1])\n",
    "    axes[1].set_title(f\"Boxplot of {col}\", fontweight=\"bold\")\n",
    "\n",
    "    if target and target in df.columns and df[target].nunique() == 2:\n",
    "        sns.violinplot(x=df[target], y=df[col], ax=axes[2], split=True)\n",
    "    elif target and target in df.columns:\n",
    "        sns.violinplot(x=df[target], y=df[col], ax=axes[2], split=False)\n",
    "    else:\n",
    "        sns.violinplot(y=df[col], ax=axes[2])\n",
    "\n",
    "    axes[2].set_title(f\"Violinplot of {col} by {target}\", fontweight=\"bold\")\n",
    "\n",
    "    plt.tight_layout()\n",
    "    plt.show()\n",
    "\n",
    "\n",
    "def plot_categorical_feature(df, col, target):\n",
    "    \"\"\" Plots Countplot, Hue-Countplot, and Barplot (if target is numeric) for a categorical feature \"\"\"\n",
    "    fig, axes = plt.subplots(1, 3, figsize=(20, 5))\n",
    "\n",
    "    sns.countplot(x=df[col], ax=axes[0])\n",
    "    axes[0].set_title(f\"Countplot of {col}\", fontweight=\"bold\")\n",
    "    axes[0].tick_params(axis='x', rotation=45)\n",
    "\n",
    "    if target in df.columns:\n",
    "        sns.countplot(x=df[col], hue=df[target], ax=axes[1])\n",
    "        axes[1].set_title(f\"Countplot of {col} by {target}\", fontweight=\"bold\")\n",
    "        axes[1].tick_params(axis='x', rotation=45)\n",
    "\n",
    "    if target in df.columns and df[target].dtype in [np.float64, np.int64]:\n",
    "        sns.barplot(x=df[col], y=df[target], ax=axes[2], estimator=np.mean, errorbar='sd')\n",
    "        axes[2].set_title(f\"Mean {target} by {col}\", fontweight=\"bold\")\n",
    "    else:\n",
    "        axes[2].remove()  \n",
    "\n",
    "    plt.tight_layout()\n",
    "    plt.show()\n",
    "    \n",
    "\n",
    "def reduce_categories(df, col, top_n):\n",
    "    \"\"\" Shows only the categories with highes numbers, seldoms are shown with \"others\" \"\"\"\n",
    "    top_categories = df[col].value_counts().nlargest(top_n).index\n",
    "    df[col] = df[col].apply(lambda x: x if x in top_categories else 'Other')\n",
    "    return df\n",
    "\n",
    "def get_categorical_numerical_features(df):\n",
    "    # Get Numeric & Categorical Features\n",
    "    numeric_features = df.select_dtypes(include=[np.number]).columns.tolist()\n",
    "    categorical_features = df.select_dtypes(include=['object', 'category']).columns.tolist()\n",
    "    return numeric_features, categorical_features\n",
    "\n",
    "#visualize_feature_attributes(train, target=target_feature)"
   ]
  },
  {
   "cell_type": "markdown",
   "metadata": {},
   "source": [
    "# Correlation Matrix (Numerical values)"
   ]
  },
  {
   "cell_type": "code",
   "execution_count": 26,
   "metadata": {},
   "outputs": [],
   "source": [
    "# Get Numeric & Categorical Features\n",
    "# numeric_features, categorical_features = get_categorical_numerical_features(train)\n",
    "# sns.heatmap(train[numeric_features].corr(), annot=True, cmap='coolwarm')"
   ]
  },
  {
   "cell_type": "markdown",
   "metadata": {},
   "source": [
    "# Analyse categorical features"
   ]
  },
  {
   "cell_type": "markdown",
   "metadata": {},
   "source": [
    "# Correlation Matrix Categorical Features"
   ]
  },
  {
   "cell_type": "markdown",
   "metadata": {},
   "source": [
    "# Merge categorical features\n",
    "I will wait before i will drop features"
   ]
  },
  {
   "cell_type": "markdown",
   "metadata": {},
   "source": [
    "# Analyze\n",
    "## Numerical Features\n",
    "## Categorical Features\n"
   ]
  },
  {
   "cell_type": "markdown",
   "metadata": {},
   "source": [
    "# Save CSV Files as Kaggle Datasets"
   ]
  },
  {
   "cell_type": "code",
   "execution_count": 27,
   "metadata": {},
   "outputs": [],
   "source": [
    "# if KAGGLE_ENV:\n",
    "#     path = '/kaggle/input/' + competition_name + '-train-concat/'\n",
    "#     if not os.path.exists(path):\n",
    "#         os.makedirs(path)\n",
    "#     train.to_csv('/kaggle/input/' + competition_name + '-train-concat/' + competition_name + '-train-concat.csv', index=False)\n",
    "# else:\n",
    "#     path = '../kaggle/input/' + competition_name + '-train-concat/'\n",
    "#     if not os.path.exists(path):\n",
    "#         os.makedirs(path)\n",
    "#     train.to_csv('../kaggle/input/' + competition_name + '-train-concat/' + competition_name + '-train-concat.csv', index=False)"
   ]
  },
  {
   "cell_type": "code",
   "execution_count": 28,
   "metadata": {},
   "outputs": [],
   "source": [
    "# if KAGGLE_ENV:\n",
    "#     path = '/kaggle/input/' + competition_name + '-test-concat/'\n",
    "#     if not os.path.exists(path):\n",
    "#         os.makedirs(path)\n",
    "#     test.to_csv('/kaggle/input/' + competition_name + '-test-concat/' + competition_name + '-test-concat.csv', index=False)\n",
    "# else:\n",
    "#     path = '../kaggle/input/' + competition_name + '-test-concat/'\n",
    "#     if not os.path.exists(path):\n",
    "#         os.makedirs(path)\n",
    "#     test.to_csv('../kaggle/input/' + competition_name + '-test-concat/' + competition_name + '-test-concat.csv', index=False)"
   ]
  }
 ],
 "metadata": {
  "kaggle": {
   "accelerator": "none",
   "dataSources": [
    {
     "databundleVersionId": 10008389,
     "sourceId": 84895,
     "sourceType": "competition"
    }
   ],
   "isGpuEnabled": false,
   "isInternetEnabled": true,
   "language": "python",
   "sourceType": "notebook"
  },
  "kernelspec": {
   "display_name": "base",
   "language": "python",
   "name": "python3"
  },
  "language_info": {
   "codemirror_mode": {
    "name": "ipython",
    "version": 3
   },
   "file_extension": ".py",
   "mimetype": "text/x-python",
   "name": "python",
   "nbconvert_exporter": "python",
   "pygments_lexer": "ipython3",
   "version": "3.11.5"
  }
 },
 "nbformat": 4,
 "nbformat_minor": 4
}
